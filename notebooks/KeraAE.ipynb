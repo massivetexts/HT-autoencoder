{
 "cells": [
  {
   "cell_type": "code",
   "execution_count": 1,
   "metadata": {},
   "outputs": [
    {
     "name": "stdout",
     "output_type": "stream",
     "text": [
      "('Running with params', 'L0.0001-H200-G0-b256-l200-N5096-E32-v202498-t10000')\n"
     ]
    }
   ],
   "source": [
    "from vaeArgs import getParser\n",
    "parser = getParser()   \n",
    "args = parser.parse_args('tfrecords tfrecords-cross-val -H200 -t10000'.split())\n",
    "\n",
    "import tensorflow as tf\n",
    "import numpy as np\n",
    "from vae import create_vae\n",
    "import time\n",
    "import json\n",
    "import os\n",
    "from vaeArgs import param_string\n",
    "from data_utils import get_train_dataset, get_validation_dataset\n",
    "\n",
    "#sess = tf.Session(config=tf.ConfigProto(log_device_placement=args.log_device))\n",
    "\n",
    "epochs = np.floor(args.n_batches / args.batches_per_epoch).astype(int)\n",
    "params = param_string(args)\n",
    "assert epochs > 0\n",
    "assert args.hidden_dim > args.hidden2_dim\n",
    "print(\"Running with params\", params)"
   ]
  },
  {
   "cell_type": "code",
   "execution_count": 1,
   "metadata": {},
   "outputs": [
    {
     "name": "stderr",
     "output_type": "stream",
     "text": [
      "/usr/lib/python3/dist-packages/h5py/__init__.py:34: FutureWarning: Conversion of the second argument of issubdtype from `float` to `np.floating` is deprecated. In future, it will be treated as `np.float64 == np.dtype(float).type`.\n",
      "  from ._conv import register_converters as _register_converters\n",
      "Using TensorFlow backend.\n"
     ]
    }
   ],
   "source": [
    "import keras"
   ]
  },
  {
   "cell_type": "code",
   "execution_count": 2,
   "metadata": {},
   "outputs": [
    {
     "name": "stdout",
     "output_type": "stream",
     "text": [
      "WARNING:tensorflow:Output \"dense_4\" missing from loss dictionary. We assume this was done on purpose. The fit and evaluate APIs will not be expecting any data to be passed to \"dense_4\".\n"
     ]
    }
   ],
   "source": [
    "vae = create_vae((args.trim_vocab if args.trim_vocab else args.vocab_size),\n",
    "                 args.hidden_dim, args.latent_dim,\n",
    "                 intermediate_dim2=args.hidden2_dim,\n",
    "                 learning_rate=args.learning_rate, epsilon_std=1.0)"
   ]
  },
  {
   "cell_type": "code",
   "execution_count": null,
   "metadata": {},
   "outputs": [],
   "source": [
    "from tensorflow.contrib import tpu\n",
    "tf.keras.backend.clear_session()\n",
    "\n",
    "tpu_name = \"node-3\"\n",
    "tpu_grpc_url = tf.contrib.cluster_resolver.TPUClusterResolver(tpu=[tpu_name])\n",
    "\n",
    "with tf.Graph().as_default():\n",
    "    # Compile model\n",
    "    print('compiling model')\n",
    "    vae = create_vae((args.trim_vocab if args.trim_vocab else args.vocab_size),\n",
    "                     args.hidden_dim, args.latent_dim,\n",
    "                     intermediate_dim2=args.hidden2_dim,\n",
    "                     learning_rate=args.learning_rate, epsilon_std=1.0)\n",
    "\n",
    "    tpu_model = tf.contrib.tpu.keras_to_tpu_model(\n",
    "            vae,\n",
    "            strategy=tf.contrib.tpu.TPUDistributionStrategy(tpu_grpc_url)\n",
    "        )\n",
    "        \n",
    "    with tf.Session(tpu_grpc_url.get_master()) as sess:\n",
    "        # Initialize Variables\n",
    "        print(\"initializing system\")\n",
    "        sess.run(tpu.initialize_system())\n",
    "        print('initializing variables')\n",
    "        init = tf.global_variables_initializer()\n",
    "        sess.run(init)\n",
    "\n",
    "\n",
    "\n",
    "        \n",
    "        #output = sess.run(tpu_computation)\n",
    "        #print(output)\n",
    "        sess.run(tpu.shutdown_system())\n",
    "\n",
    "        print('Done!')\n"
   ]
  },
  {
   "cell_type": "code",
   "execution_count": 7,
   "metadata": {},
   "outputs": [],
   "source": [
    "vae = keras.models.load_model('models/L0.0001-H400-G0-b256-l200-N100-E10-v202498-t10000-keras-full.h5',\n",
    "                        custom_objects={'calc_vae_loss': calc_vae_loss},\n",
    "                        compile=False)"
   ]
  },
  {
   "cell_type": "code",
   "execution_count": 29,
   "metadata": {},
   "outputs": [],
   "source": [
    "from vae import create_vae\n",
    "from vaeArgs import getParser\n",
    "parser = getParser()\n",
    "args = parser.parse_args(('tfrecords tfrecords-cross-val -L0.0001 -H3500 -G1500 -b256 -l500 -N3840 -E128 -v202498 -t10000').split())\n",
    "vae = create_vae((args.trim_vocab if args.trim_vocab else args.vocab_size),\n",
    "                         args.hidden_dim, args.latent_dim,\n",
    "                         intermediate_dim2=args.hidden2_dim,\n",
    "                         learning_rate=args.learning_rate, epsilon_std=1.0)\n",
    "vae.load_weights('models/L0.0001000-H1000-G0-b256-l200-N1000-E128-v202498-t10000-keras-full.h5')"
   ]
  },
  {
   "cell_type": "code",
   "execution_count": null,
   "metadata": {},
   "outputs": [],
   "source": [
    "4187 after 20"
   ]
  },
  {
   "cell_type": "code",
   "execution_count": 24,
   "metadata": {},
   "outputs": [],
   "source": [
    "sess.close()"
   ]
  },
  {
   "cell_type": "code",
   "execution_count": 5,
   "metadata": {},
   "outputs": [
    {
     "data": {
      "text/plain": [
       "317022"
      ]
     },
     "execution_count": 5,
     "metadata": {},
     "output_type": "execute_result"
    }
   ],
   "source": [
    "import tensorflow as tf\n",
    "options = tf.python_io.TFRecordOptions(tf.python_io.TFRecordCompressionType.GZIP)\n",
    "\n",
    "def count_docs(filenames):\n",
    "    N = 0\n",
    "\n",
    "    for fn in filenames:\n",
    "        try:\n",
    "            for record in tf.python_io.tf_record_iterator(fn, options):\n",
    "                N += 1\n",
    "        except:\n",
    "            print(fn)\n",
    "\n",
    "    return N\n",
    "\n",
    "import glob\n",
    "count_docs(glob.glob('data/train/batch_002011*gz'))"
   ]
  },
  {
   "cell_type": "code",
   "execution_count": 9,
   "metadata": {},
   "outputs": [],
   "source": [
    "sess.close()"
   ]
  },
  {
   "cell_type": "code",
   "execution_count": 3,
   "metadata": {},
   "outputs": [],
   "source": [
    "from data_utils import *\n",
    "\n",
    "trim_head = 200\n",
    "trim_dim = args.dims[0] if (args.dims[0] < args.vocab_size) else None\n",
    "\n",
    "if not trim_dim:\n",
    "    args.dims[0] = args.vocab_size - trim_head\n",
    "    \n",
    "# Prepare reference to input data\n",
    "if args.input_gzip:\n",
    "    compression = \"GZIP\"\n",
    "else:\n",
    "    compression = \"\"\n",
    "\n",
    "train_dataset = get_train_dataset(path=args.training_path + \"/*.tfrecord\",\n",
    "                                  batch_size=args.batch_size, n_batches=args.n_batches,\n",
    "                                  trim_dim=trim_dim, trim_head=trim_head,\n",
    "                                  idf_path=args.idf_path, compression=compression, max_path=args.max_path)"
   ]
  },
  {
   "cell_type": "code",
   "execution_count": 1,
   "metadata": {},
   "outputs": [
    {
     "ename": "NameError",
     "evalue": "name 'sess' is not defined",
     "output_type": "error",
     "traceback": [
      "\u001b[0;31m---------------------------------------------------------------------------\u001b[0m",
      "\u001b[0;31mNameError\u001b[0m                                 Traceback (most recent call last)",
      "\u001b[0;32m<ipython-input-1-e1e23f5baa4c>\u001b[0m in \u001b[0;36m<module>\u001b[0;34m()\u001b[0m\n\u001b[0;32m----> 1\u001b[0;31m \u001b[0msess\u001b[0m\u001b[0;34m.\u001b[0m\u001b[0mclose\u001b[0m\u001b[0;34m(\u001b[0m\u001b[0;34m)\u001b[0m\u001b[0;34m\u001b[0m\u001b[0m\n\u001b[0m",
      "\u001b[0;31mNameError\u001b[0m: name 'sess' is not defined"
     ]
    }
   ],
   "source": [
    "sess.close()"
   ]
  },
  {
   "cell_type": "code",
   "execution_count": 4,
   "metadata": {},
   "outputs": [
    {
     "name": "stderr",
     "output_type": "stream",
     "text": [
      "/usr/local/lib/python3.5/dist-packages/tensorflow/python/client/session.py:1662: UserWarning: An interactive session is already active. This can cause out-of-memory errors in some cases. You must explicitly call `InteractiveSession.close()` to release resources held by the other session(s).\n",
      "  warnings.warn('An interactive session is already active. This can '\n"
     ]
    },
    {
     "name": "stdout",
     "output_type": "stream",
     "text": [
      "Running with params L0.0000100-D10000_2000_200_2-b1024-N27000-E100-v202498-oAdam-SCrossEntropy-idf\n",
      "Train on 1024 samples, validate on 1024 samples\n",
      "Epoch 1/270\n",
      "100/100 [==============================] - 29s 293ms/step - loss: 37159715559418288.0000 - val_loss: 6428.7578\n",
      "Epoch 2/270\n",
      "100/100 [==============================] - 27s 270ms/step - loss: 341171.9308 - val_loss: 4135.6504\n",
      "Epoch 3/270\n",
      "100/100 [==============================] - 27s 269ms/step - loss: 3586.1526 - val_loss: 3443.3184\n",
      "Epoch 4/270\n",
      "100/100 [==============================] - 26s 264ms/step - loss: 3168.3638 - val_loss: 3399.3323\n",
      "Epoch 5/270\n",
      "100/100 [==============================] - 26s 263ms/step - loss: 2970.1326 - val_loss: 3383.4937\n",
      "Epoch 6/270\n",
      "100/100 [==============================] - 26s 264ms/step - loss: 2974.2154 - val_loss: 3347.2048\n",
      "Epoch 7/270\n",
      "100/100 [==============================] - 27s 268ms/step - loss: 2927.5375 - val_loss: 3303.5911\n",
      "Epoch 8/270\n",
      "100/100 [==============================] - 27s 272ms/step - loss: 3044.8170 - val_loss: 3250.0271\n",
      "Epoch 9/270\n",
      "100/100 [==============================] - 28s 276ms/step - loss: 3166.1934 - val_loss: 3191.9375\n",
      "Epoch 10/270\n",
      "100/100 [==============================] - 27s 273ms/step - loss: 3008.1890 - val_loss: 3186.5356\n",
      "Epoch 11/270\n",
      "100/100 [==============================] - 27s 271ms/step - loss: 2825.2141 - val_loss: 3172.1216\n",
      "Epoch 12/270\n",
      "100/100 [==============================] - 27s 274ms/step - loss: 2981.6669 - val_loss: 3112.7942\n",
      "Epoch 13/270\n",
      "100/100 [==============================] - 27s 273ms/step - loss: 2786.0499 - val_loss: 3055.1626\n",
      "Epoch 14/270\n",
      "100/100 [==============================] - 27s 271ms/step - loss: 2788.9917 - val_loss: 3016.9470\n",
      "Epoch 15/270\n",
      "100/100 [==============================] - 27s 273ms/step - loss: 2772.6831 - val_loss: 2961.4407\n",
      "Epoch 16/270\n",
      "100/100 [==============================] - 27s 271ms/step - loss: 2598.0924 - val_loss: 2930.1001\n",
      "Epoch 17/270\n",
      "100/100 [==============================] - 27s 273ms/step - loss: 2634.8001 - val_loss: 2938.3271\n",
      "Epoch 18/270\n",
      "100/100 [==============================] - 28s 276ms/step - loss: 2700.3354 - val_loss: 2805.8945\n",
      "Epoch 19/270\n",
      "100/100 [==============================] - 28s 275ms/step - loss: 2681.2350 - val_loss: 2796.7903\n",
      "Epoch 20/270\n",
      "100/100 [==============================] - 28s 275ms/step - loss: 2756.0094 - val_loss: 2754.1160\n",
      "Epoch 21/270\n",
      "100/100 [==============================] - 27s 273ms/step - loss: 2547.4283 - val_loss: 2687.0889\n",
      "Epoch 22/270\n",
      "100/100 [==============================] - 27s 273ms/step - loss: 2496.4118 - val_loss: 2659.5828\n",
      "Epoch 23/270\n",
      "100/100 [==============================] - 27s 273ms/step - loss: 2514.7069 - val_loss: 2592.3027\n",
      "Epoch 24/270\n",
      "100/100 [==============================] - 27s 272ms/step - loss: 2430.5368 - val_loss: 2581.9807\n",
      "Epoch 25/270\n",
      "100/100 [==============================] - 27s 271ms/step - loss: 2299.3623 - val_loss: 2567.9973\n",
      "Epoch 26/270\n",
      "100/100 [==============================] - 27s 274ms/step - loss: 2470.5925 - val_loss: 2495.1367\n",
      "Epoch 27/270\n",
      "100/100 [==============================] - 27s 275ms/step - loss: 2478.7017 - val_loss: 2473.8530\n",
      "Epoch 28/270\n",
      "100/100 [==============================] - 28s 275ms/step - loss: 2344.7739 - val_loss: 2425.2041\n",
      "Epoch 29/270\n",
      "100/100 [==============================] - 28s 276ms/step - loss: 2327.6962 - val_loss: 2422.2227\n",
      "Epoch 30/270\n",
      "100/100 [==============================] - 28s 276ms/step - loss: 2283.8263 - val_loss: 2460.8831\n",
      "Epoch 31/270\n",
      "100/100 [==============================] - 27s 274ms/step - loss: 2284.9246 - val_loss: 2354.7808\n",
      "Epoch 32/270\n",
      "100/100 [==============================] - 27s 273ms/step - loss: 2260.0170 - val_loss: 2357.8743\n",
      "Epoch 33/270\n",
      "100/100 [==============================] - 27s 271ms/step - loss: 2167.5595 - val_loss: 2333.9978\n",
      "Epoch 34/270\n",
      "100/100 [==============================] - 28s 277ms/step - loss: 2196.0287 - val_loss: 2337.4019\n",
      "Epoch 35/270\n",
      "100/100 [==============================] - 27s 274ms/step - loss: 2233.1635 - val_loss: 2288.0525\n",
      "Epoch 36/270\n",
      "100/100 [==============================] - 28s 277ms/step - loss: 2337.9138 - val_loss: 2278.2449\n",
      "Epoch 37/270\n",
      "100/100 [==============================] - 28s 277ms/step - loss: 2225.1921 - val_loss: 2247.1162\n",
      "Epoch 38/270\n",
      "100/100 [==============================] - 27s 273ms/step - loss: 2157.0263 - val_loss: 2240.5776\n",
      "Epoch 39/270\n",
      "100/100 [==============================] - 27s 271ms/step - loss: 2056.2943 - val_loss: 2215.1392\n",
      "Epoch 40/270\n",
      "100/100 [==============================] - 27s 273ms/step - loss: 2114.7990 - val_loss: 2175.2937\n",
      "Epoch 41/270\n",
      "100/100 [==============================] - 27s 273ms/step - loss: 2104.6112 - val_loss: 2169.8921\n",
      "Epoch 42/270\n",
      "100/100 [==============================] - 27s 274ms/step - loss: 2132.1870 - val_loss: 2175.4641\n",
      "Epoch 43/270\n",
      "100/100 [==============================] - 27s 270ms/step - loss: 2057.1261 - val_loss: 2155.1001\n",
      "Epoch 44/270\n",
      "100/100 [==============================] - 28s 279ms/step - loss: 2132.4238 - val_loss: 2143.7803\n",
      "Epoch 45/270\n",
      "100/100 [==============================] - 28s 277ms/step - loss: 2099.2512 - val_loss: 2128.7200\n",
      "Epoch 46/270\n",
      "100/100 [==============================] - 28s 276ms/step - loss: 2042.2742 - val_loss: 2118.9216\n",
      "Epoch 47/270\n",
      "100/100 [==============================] - 28s 277ms/step - loss: 2067.8815 - val_loss: 2098.1846\n",
      "Epoch 48/270\n",
      "100/100 [==============================] - 27s 273ms/step - loss: 2048.9468 - val_loss: 2098.5681\n",
      "Epoch 49/270\n",
      "100/100 [==============================] - 28s 276ms/step - loss: 2039.8836 - val_loss: 2075.6838\n",
      "Epoch 50/270\n",
      "100/100 [==============================] - 27s 269ms/step - loss: 1915.5897 - val_loss: 2066.5579\n",
      "Epoch 51/270\n",
      "100/100 [==============================] - 28s 280ms/step - loss: 2084.7182 - val_loss: 2055.1096\n",
      "Epoch 52/270\n",
      "100/100 [==============================] - 28s 276ms/step - loss: 1977.1506 - val_loss: 2053.0806\n",
      "Epoch 53/270\n",
      "100/100 [==============================] - 28s 275ms/step - loss: 1990.9350 - val_loss: 2039.3729\n",
      "Epoch 54/270\n",
      "100/100 [==============================] - 28s 279ms/step - loss: 2058.1361 - val_loss: 2008.7885\n",
      "Epoch 55/270\n",
      "100/100 [==============================] - 28s 281ms/step - loss: 2071.0438 - val_loss: 1988.9026\n",
      "Epoch 56/270\n",
      "100/100 [==============================] - 28s 276ms/step - loss: 1976.2595 - val_loss: 1999.9412\n",
      "Epoch 57/270\n",
      "100/100 [==============================] - 27s 269ms/step - loss: 1789.4728 - val_loss: 1993.7988\n",
      "Epoch 58/270\n",
      "100/100 [==============================] - 28s 277ms/step - loss: 1856.3323 - val_loss: 1981.7256\n",
      "Epoch 59/270\n",
      "100/100 [==============================] - 27s 275ms/step - loss: 1988.2913 - val_loss: 1976.6818\n",
      "Epoch 60/270\n",
      "100/100 [==============================] - 27s 273ms/step - loss: 1854.3636 - val_loss: 1974.3076\n",
      "Epoch 61/270\n",
      "100/100 [==============================] - 27s 274ms/step - loss: 1739.5872 - val_loss: 1955.2719\n",
      "Epoch 62/270\n",
      "100/100 [==============================] - 27s 274ms/step - loss: 1945.3080 - val_loss: 1945.6060\n",
      "Epoch 63/270\n",
      "100/100 [==============================] - 27s 274ms/step - loss: 1868.2544 - val_loss: 1944.9868\n",
      "Epoch 64/270\n",
      "100/100 [==============================] - 27s 272ms/step - loss: 1764.1830 - val_loss: 1933.8290\n",
      "Epoch 65/270\n",
      "100/100 [==============================] - 27s 275ms/step - loss: 1932.7007 - val_loss: 1919.4490\n",
      "Epoch 66/270\n",
      "100/100 [==============================] - 28s 279ms/step - loss: 1828.6944 - val_loss: 1903.2758\n",
      "Epoch 67/270\n",
      "100/100 [==============================] - 28s 276ms/step - loss: 1801.4991 - val_loss: 1895.5397\n",
      "Epoch 68/270\n",
      "100/100 [==============================] - 28s 280ms/step - loss: 1956.0358 - val_loss: 1875.2550\n",
      "Epoch 69/270\n",
      "100/100 [==============================] - 28s 276ms/step - loss: 1844.6812 - val_loss: 1873.8462\n",
      "Epoch 70/270\n",
      "100/100 [==============================] - 28s 276ms/step - loss: 1743.2029 - val_loss: 1872.3197\n",
      "Epoch 71/270\n",
      "100/100 [==============================] - 27s 273ms/step - loss: 1807.9774 - val_loss: 1860.8987\n",
      "Epoch 72/270\n",
      "100/100 [==============================] - 27s 274ms/step - loss: 1805.5466 - val_loss: 1839.0725\n",
      "Epoch 73/270\n",
      "100/100 [==============================] - 27s 274ms/step - loss: 1630.4168 - val_loss: 1834.5691\n",
      "Epoch 74/270\n",
      "100/100 [==============================] - 27s 273ms/step - loss: 1798.4626 - val_loss: 1825.6520\n",
      "Epoch 75/270\n",
      "100/100 [==============================] - 28s 277ms/step - loss: 1893.0250 - val_loss: 1825.5670\n",
      "Epoch 76/270\n",
      "100/100 [==============================] - 28s 277ms/step - loss: 1775.7946 - val_loss: 1814.1676\n",
      "Epoch 77/270\n",
      "100/100 [==============================] - 28s 275ms/step - loss: 1791.6190 - val_loss: 1815.2661\n",
      "Epoch 78/270\n",
      "100/100 [==============================] - 27s 269ms/step - loss: 1716.6909 - val_loss: 1808.0372\n",
      "Epoch 79/270\n",
      "100/100 [==============================] - 27s 271ms/step - loss: 1783.0821 - val_loss: 1801.4486\n",
      "Epoch 80/270\n",
      "100/100 [==============================] - 27s 272ms/step - loss: 1871.6733 - val_loss: 1792.7081\n",
      "Epoch 81/270\n",
      "100/100 [==============================] - 27s 273ms/step - loss: 1829.9168 - val_loss: 1789.0675\n",
      "Epoch 82/270\n",
      "100/100 [==============================] - 28s 277ms/step - loss: 1688.0222 - val_loss: 1780.8811\n",
      "Epoch 83/270\n",
      "100/100 [==============================] - 27s 273ms/step - loss: 1795.7050 - val_loss: 1779.7831\n",
      "Epoch 84/270\n",
      "100/100 [==============================] - 27s 270ms/step - loss: 1752.8195 - val_loss: 1775.8019\n",
      "Epoch 85/270\n",
      "100/100 [==============================] - 27s 274ms/step - loss: 1811.2291 - val_loss: 1771.0475\n",
      "Epoch 86/270\n",
      "100/100 [==============================] - 27s 272ms/step - loss: 1740.5033 - val_loss: 1766.8684\n",
      "Epoch 87/270\n",
      "100/100 [==============================] - 28s 276ms/step - loss: 1822.8707 - val_loss: 1764.5706\n",
      "Epoch 88/270\n",
      "100/100 [==============================] - 28s 276ms/step - loss: 1808.6380 - val_loss: 1757.0782\n",
      "Epoch 89/270\n",
      "100/100 [==============================] - 27s 271ms/step - loss: 1768.3334 - val_loss: 1745.9441\n",
      "Epoch 90/270\n",
      "100/100 [==============================] - 27s 273ms/step - loss: 1773.7641 - val_loss: 1744.4203\n",
      "Epoch 91/270\n",
      "100/100 [==============================] - 27s 275ms/step - loss: 1756.4929 - val_loss: 1738.3055\n",
      "Epoch 92/270\n",
      "100/100 [==============================] - 27s 274ms/step - loss: 1793.3585 - val_loss: 1732.8816\n",
      "Epoch 93/270\n",
      "100/100 [==============================] - 27s 271ms/step - loss: 1804.8099 - val_loss: 1729.1592\n",
      "Epoch 94/270\n",
      "100/100 [==============================] - 27s 272ms/step - loss: 1572.2984 - val_loss: 1732.2909\n",
      "Epoch 95/270\n",
      "100/100 [==============================] - 27s 270ms/step - loss: 1669.1371 - val_loss: 1732.0663\n",
      "Epoch 96/270\n",
      "100/100 [==============================] - 28s 276ms/step - loss: 1715.4796 - val_loss: 1724.8270\n",
      "Epoch 97/270\n",
      "100/100 [==============================] - 28s 279ms/step - loss: 1818.2141 - val_loss: 1724.1128\n",
      "Epoch 98/270\n",
      "100/100 [==============================] - 27s 273ms/step - loss: 1822.7674 - val_loss: 1718.1559\n",
      "Epoch 99/270\n",
      "100/100 [==============================] - 27s 271ms/step - loss: 1711.9309 - val_loss: 1714.8666\n",
      "Epoch 100/270\n",
      "100/100 [==============================] - 27s 272ms/step - loss: 1657.1270 - val_loss: 1718.3809\n",
      "Epoch 101/270\n",
      "100/100 [==============================] - 28s 279ms/step - loss: 1580.0741 - val_loss: 1721.7830\n",
      "Epoch 102/270\n",
      "100/100 [==============================] - 27s 271ms/step - loss: 1609.3184 - val_loss: 1722.6592\n",
      "Epoch 103/270\n",
      "100/100 [==============================] - 27s 267ms/step - loss: 1588.1796 - val_loss: 1715.8123\n",
      "Epoch 104/270\n",
      "100/100 [==============================] - 27s 269ms/step - loss: 1693.9728 - val_loss: 1717.7919\n",
      "Epoch 105/270\n",
      "100/100 [==============================] - 27s 273ms/step - loss: 1696.6111 - val_loss: 1716.1543\n",
      "Epoch 106/270\n",
      "100/100 [==============================] - 27s 271ms/step - loss: 1619.4866 - val_loss: 1707.9259\n",
      "Epoch 107/270\n",
      "100/100 [==============================] - 28s 276ms/step - loss: 1654.2414 - val_loss: 1704.5804\n",
      "Epoch 108/270\n",
      "100/100 [==============================] - 27s 271ms/step - loss: 1667.7891 - val_loss: 1701.9871\n",
      "Epoch 109/270\n",
      "100/100 [==============================] - 27s 274ms/step - loss: 1711.9875 - val_loss: 1698.6073\n",
      "Epoch 110/270\n",
      "100/100 [==============================] - 27s 271ms/step - loss: 1631.0555 - val_loss: 1699.5427\n",
      "Epoch 111/270\n",
      "100/100 [==============================] - 27s 269ms/step - loss: 1638.1252 - val_loss: 1698.1764\n",
      "Epoch 112/270\n",
      "100/100 [==============================] - 27s 274ms/step - loss: 1716.9117 - val_loss: 1698.5051\n",
      "Epoch 113/270\n",
      "100/100 [==============================] - 27s 272ms/step - loss: 1610.5630 - val_loss: 1697.1851\n",
      "Epoch 114/270\n",
      "100/100 [==============================] - 27s 269ms/step - loss: 1598.8419 - val_loss: 1697.6407\n",
      "Epoch 115/270\n",
      "100/100 [==============================] - 27s 274ms/step - loss: 1739.8684 - val_loss: 1702.2100\n",
      "Epoch 116/270\n",
      "100/100 [==============================] - 27s 271ms/step - loss: 1694.0173 - val_loss: 1696.4071\n",
      "Epoch 117/270\n",
      "100/100 [==============================] - 27s 271ms/step - loss: 1737.7321 - val_loss: 1697.3536\n",
      "Epoch 118/270\n",
      "100/100 [==============================] - 27s 270ms/step - loss: 1636.6887 - val_loss: 1690.5618\n",
      "Epoch 119/270\n",
      "100/100 [==============================] - 27s 273ms/step - loss: 1692.5263 - val_loss: 1691.0867\n",
      "Epoch 120/270\n",
      "100/100 [==============================] - 27s 271ms/step - loss: 1534.1935 - val_loss: 1682.0015\n",
      "Epoch 121/270\n",
      "100/100 [==============================] - 27s 272ms/step - loss: 1657.6772 - val_loss: 1682.2050\n",
      "Epoch 122/270\n",
      "100/100 [==============================] - 27s 268ms/step - loss: 1621.3706 - val_loss: 1679.4624\n",
      "Epoch 123/270\n",
      "100/100 [==============================] - 27s 274ms/step - loss: 1657.4216 - val_loss: 1685.7104\n",
      "Epoch 124/270\n",
      "100/100 [==============================] - 27s 274ms/step - loss: 1623.5771 - val_loss: 1683.0060\n",
      "Epoch 125/270\n",
      "100/100 [==============================] - 27s 275ms/step - loss: 1484.1371 - val_loss: 1678.1781\n",
      "Epoch 126/270\n",
      "100/100 [==============================] - 27s 272ms/step - loss: 1680.0524 - val_loss: 1671.7058\n",
      "Epoch 127/270\n",
      "100/100 [==============================] - 28s 278ms/step - loss: 1668.2041 - val_loss: 1676.3121\n",
      "Epoch 128/270\n",
      "100/100 [==============================] - 27s 274ms/step - loss: 1722.1890 - val_loss: 1672.3606\n",
      "Epoch 129/270\n",
      "100/100 [==============================] - 27s 273ms/step - loss: 1649.3060 - val_loss: 1668.6414\n",
      "Epoch 130/270\n",
      "100/100 [==============================] - 27s 274ms/step - loss: 1617.1275 - val_loss: 1663.3756\n",
      "Epoch 131/270\n",
      "100/100 [==============================] - 27s 272ms/step - loss: 1658.3659 - val_loss: 1668.7330\n",
      "Epoch 132/270\n",
      "100/100 [==============================] - 27s 274ms/step - loss: 1682.4997 - val_loss: 1658.5667\n",
      "Epoch 133/270\n",
      "100/100 [==============================] - 27s 272ms/step - loss: 1694.2439 - val_loss: 1655.2875\n",
      "Epoch 134/270\n",
      "100/100 [==============================] - 27s 274ms/step - loss: 1622.0039 - val_loss: 1655.3303\n",
      "Epoch 135/270\n",
      "100/100 [==============================] - 27s 271ms/step - loss: 1545.9997 - val_loss: 1655.8181\n",
      "Epoch 136/270\n",
      "100/100 [==============================] - 27s 273ms/step - loss: 1500.3263 - val_loss: 1658.5590\n",
      "Epoch 137/270\n",
      "100/100 [==============================] - 27s 273ms/step - loss: 1614.8130 - val_loss: 1652.8120\n",
      "Epoch 138/270\n",
      "100/100 [==============================] - 27s 273ms/step - loss: 1668.8296 - val_loss: 1651.2267\n",
      "Epoch 139/270\n",
      "100/100 [==============================] - 27s 274ms/step - loss: 1532.3837 - val_loss: 1652.1808\n",
      "Epoch 140/270\n",
      "100/100 [==============================] - 27s 269ms/step - loss: 1601.1715 - val_loss: 1651.3022\n",
      "Epoch 141/270\n",
      "100/100 [==============================] - 27s 270ms/step - loss: 1640.7972 - val_loss: 1653.0782\n",
      "Epoch 142/270\n",
      "100/100 [==============================] - 27s 269ms/step - loss: 1545.5994 - val_loss: 1649.7367\n",
      "Epoch 143/270\n",
      "100/100 [==============================] - 28s 276ms/step - loss: 1664.8635 - val_loss: 1642.8098\n",
      "Epoch 144/270\n",
      "100/100 [==============================] - 27s 274ms/step - loss: 1633.4961 - val_loss: 1645.3525\n",
      "Epoch 145/270\n",
      "100/100 [==============================] - 28s 275ms/step - loss: 1581.9829 - val_loss: 1645.6200\n",
      "Epoch 146/270\n",
      "100/100 [==============================] - 28s 281ms/step - loss: 1573.4116 - val_loss: 1648.8696\n",
      "Epoch 147/270\n",
      "100/100 [==============================] - 28s 276ms/step - loss: 1683.0399 - val_loss: 1651.1185\n",
      "Epoch 148/270\n",
      "100/100 [==============================] - 27s 272ms/step - loss: 1678.6126 - val_loss: 1649.8114\n",
      "Epoch 149/270\n",
      "100/100 [==============================] - 27s 275ms/step - loss: 1612.4323 - val_loss: 1650.6464\n",
      "Epoch 150/270\n",
      "100/100 [==============================] - 28s 275ms/step - loss: 1713.1942 - val_loss: 1645.1150\n",
      "Epoch 151/270\n",
      "100/100 [==============================] - 27s 270ms/step - loss: 1569.5240 - val_loss: 1637.7850\n",
      "Epoch 152/270\n",
      "100/100 [==============================] - 27s 270ms/step - loss: 1654.6675 - val_loss: 1640.1907\n",
      "Epoch 153/270\n",
      "100/100 [==============================] - 27s 273ms/step - loss: 1696.2291 - val_loss: 1633.4971\n",
      "Epoch 154/270\n",
      "100/100 [==============================] - 27s 270ms/step - loss: 1464.7053 - val_loss: 1642.2737\n",
      "Epoch 155/270\n",
      "100/100 [==============================] - 27s 270ms/step - loss: 1535.7626 - val_loss: 1631.5132\n",
      "Epoch 156/270\n",
      "100/100 [==============================] - 27s 273ms/step - loss: 1628.8872 - val_loss: 1634.4646\n",
      "Epoch 157/270\n",
      "100/100 [==============================] - 28s 275ms/step - loss: 1712.2950 - val_loss: 1627.5931\n",
      "Epoch 158/270\n",
      "100/100 [==============================] - 27s 274ms/step - loss: 1439.1152 - val_loss: 1622.3098\n",
      "Epoch 159/270\n",
      "100/100 [==============================] - 28s 275ms/step - loss: 1688.1179 - val_loss: 1630.4069\n",
      "Epoch 160/270\n",
      "100/100 [==============================] - 27s 274ms/step - loss: 1621.8566 - val_loss: 1635.5039\n",
      "Epoch 161/270\n",
      "100/100 [==============================] - 27s 274ms/step - loss: 1504.2138 - val_loss: 1634.3583\n",
      "Epoch 162/270\n",
      "100/100 [==============================] - 27s 271ms/step - loss: 1645.7878 - val_loss: 1633.0138\n",
      "Epoch 163/270\n",
      "100/100 [==============================] - 27s 269ms/step - loss: 1648.4889 - val_loss: 1628.7914\n",
      "Epoch 164/270\n",
      "100/100 [==============================] - 27s 275ms/step - loss: 1418.1302 - val_loss: 1624.3093\n",
      "Epoch 165/270\n",
      "100/100 [==============================] - 27s 272ms/step - loss: 1568.0424 - val_loss: 1622.7728\n",
      "Epoch 166/270\n",
      "100/100 [==============================] - 27s 273ms/step - loss: 1636.6036 - val_loss: 1619.8162\n",
      "Epoch 167/270\n",
      "100/100 [==============================] - 27s 274ms/step - loss: 1219.7242 - val_loss: 1607.6837\n",
      "Epoch 168/270\n",
      "100/100 [==============================] - 27s 273ms/step - loss: 1534.0636 - val_loss: 1608.6389\n",
      "Epoch 169/270\n",
      "100/100 [==============================] - 27s 271ms/step - loss: 1478.8846 - val_loss: 1611.4769\n",
      "Epoch 170/270\n",
      "100/100 [==============================] - 28s 279ms/step - loss: 1598.8508 - val_loss: 1602.8109\n",
      "Epoch 171/270\n",
      "100/100 [==============================] - 28s 278ms/step - loss: 1655.8921 - val_loss: 1608.0692\n",
      "Epoch 172/270\n",
      "100/100 [==============================] - 27s 272ms/step - loss: 1475.4851 - val_loss: 1608.5398\n",
      "Epoch 173/270\n",
      "100/100 [==============================] - 27s 270ms/step - loss: 1430.5866 - val_loss: 1609.0955\n",
      "Epoch 174/270\n",
      "100/100 [==============================] - 27s 273ms/step - loss: 1632.4906 - val_loss: 1613.1586\n",
      "Epoch 175/270\n",
      "100/100 [==============================] - 27s 274ms/step - loss: 1644.1888 - val_loss: 1610.4948\n",
      "Epoch 176/270\n",
      "100/100 [==============================] - 27s 275ms/step - loss: 1527.0322 - val_loss: 1608.0959\n",
      "Epoch 177/270\n",
      "100/100 [==============================] - 27s 274ms/step - loss: 1136.7459 - val_loss: 1607.1929\n",
      "Epoch 178/270\n",
      "100/100 [==============================] - 27s 274ms/step - loss: 1398.7763 - val_loss: 1608.3301\n",
      "Epoch 179/270\n",
      "100/100 [==============================] - 27s 273ms/step - loss: 1600.7894 - val_loss: 1599.5790\n",
      "Epoch 180/270\n",
      "100/100 [==============================] - 27s 274ms/step - loss: 1484.6050 - val_loss: 1594.3341\n",
      "Epoch 181/270\n",
      "100/100 [==============================] - 27s 274ms/step - loss: 1411.3181 - val_loss: 1589.3363\n",
      "Epoch 182/270\n",
      "100/100 [==============================] - 27s 271ms/step - loss: 1616.3217 - val_loss: 1589.8188\n",
      "Epoch 183/270\n",
      "100/100 [==============================] - 27s 273ms/step - loss: 1597.6715 - val_loss: 1592.6188\n",
      "Epoch 184/270\n",
      "100/100 [==============================] - 28s 276ms/step - loss: 1664.8366 - val_loss: 1588.0000\n",
      "Epoch 185/270\n",
      "100/100 [==============================] - 27s 274ms/step - loss: 1648.7818 - val_loss: 1594.5835\n",
      "Epoch 186/270\n",
      "100/100 [==============================] - 28s 279ms/step - loss: 1456.6458 - val_loss: 1594.6326\n",
      "Epoch 187/270\n",
      "100/100 [==============================] - 28s 276ms/step - loss: 1312.2751 - val_loss: 1594.8145\n",
      "Epoch 188/270\n",
      "100/100 [==============================] - 28s 280ms/step - loss: 1526.6349 - val_loss: 1593.8668\n",
      "Epoch 189/270\n",
      "100/100 [==============================] - 28s 276ms/step - loss: 1592.1882 - val_loss: 1594.7725\n",
      "Epoch 190/270\n",
      "100/100 [==============================] - 27s 273ms/step - loss: 1264.7857 - val_loss: 1585.3811\n",
      "Epoch 191/270\n",
      "100/100 [==============================] - 27s 275ms/step - loss: 1332.9648 - val_loss: 1587.0522\n",
      "Epoch 192/270\n",
      "100/100 [==============================] - 27s 272ms/step - loss: 1434.7880 - val_loss: 1582.5789\n",
      "Epoch 193/270\n",
      "100/100 [==============================] - 27s 272ms/step - loss: 1585.2551 - val_loss: 1581.0940\n",
      "Epoch 194/270\n",
      "100/100 [==============================] - 28s 278ms/step - loss: 1354.2245 - val_loss: 1571.6505\n",
      "Epoch 195/270\n",
      "100/100 [==============================] - 27s 274ms/step - loss: 1510.5564 - val_loss: 1570.3489\n",
      "Epoch 196/270\n",
      "100/100 [==============================] - 27s 271ms/step - loss: 1575.2174 - val_loss: 1571.1262\n",
      "Epoch 197/270\n",
      "100/100 [==============================] - 27s 271ms/step - loss: 1380.7654 - val_loss: 1568.1392\n",
      "Epoch 198/270\n",
      "100/100 [==============================] - 27s 274ms/step - loss: 1541.8591 - val_loss: 1567.3436\n",
      "Epoch 199/270\n",
      "100/100 [==============================] - 27s 273ms/step - loss: 1517.7184 - val_loss: 1562.6050\n",
      "Epoch 200/270\n",
      "100/100 [==============================] - 27s 274ms/step - loss: 1443.2740 - val_loss: 1560.0255\n",
      "Epoch 201/270\n",
      "100/100 [==============================] - 27s 275ms/step - loss: 1401.6231 - val_loss: 1561.1982\n",
      "Epoch 202/270\n",
      "100/100 [==============================] - 27s 273ms/step - loss: 1496.8776 - val_loss: 1560.6006\n",
      "Epoch 203/270\n",
      "100/100 [==============================] - 27s 274ms/step - loss: 1607.6085 - val_loss: 1560.0342\n",
      "Epoch 204/270\n",
      "100/100 [==============================] - 27s 273ms/step - loss: 1398.9694 - val_loss: 1553.2051\n",
      "Epoch 205/270\n",
      "100/100 [==============================] - 27s 273ms/step - loss: 1606.7589 - val_loss: 1549.7551\n",
      "Epoch 206/270\n",
      "100/100 [==============================] - 27s 272ms/step - loss: 1557.4177 - val_loss: 1553.2633\n",
      "Epoch 207/270\n",
      "100/100 [==============================] - 27s 271ms/step - loss: 1531.9917 - val_loss: 1545.5487\n",
      "Epoch 208/270\n",
      "100/100 [==============================] - 27s 271ms/step - loss: 1499.1900 - val_loss: 1543.2417\n",
      "Epoch 209/270\n",
      "100/100 [==============================] - 27s 271ms/step - loss: 1579.9192 - val_loss: 1541.9517\n",
      "Epoch 210/270\n",
      "100/100 [==============================] - 27s 270ms/step - loss: 1479.1812 - val_loss: 1545.5446\n",
      "Epoch 211/270\n",
      "100/100 [==============================] - 27s 274ms/step - loss: 1495.7334 - val_loss: 1545.8000\n",
      "Epoch 212/270\n",
      "100/100 [==============================] - 27s 273ms/step - loss: 1478.0510 - val_loss: 1542.7454\n",
      "Epoch 213/270\n",
      "100/100 [==============================] - 28s 277ms/step - loss: 1561.7750 - val_loss: 1547.6421\n",
      "Epoch 214/270\n",
      "100/100 [==============================] - 27s 270ms/step - loss: 1476.3609 - val_loss: 1553.3239\n",
      "Epoch 215/270\n",
      "100/100 [==============================] - 27s 270ms/step - loss: 1476.8481 - val_loss: 1552.6722\n",
      "Epoch 216/270\n",
      "100/100 [==============================] - 27s 274ms/step - loss: 1545.1085 - val_loss: 1547.6056\n",
      "Epoch 217/270\n",
      "100/100 [==============================] - 28s 277ms/step - loss: 1492.2557 - val_loss: 1551.1393\n",
      "Epoch 218/270\n",
      "100/100 [==============================] - 27s 271ms/step - loss: 1440.8802 - val_loss: 1543.8376\n",
      "Epoch 219/270\n",
      "100/100 [==============================] - 27s 272ms/step - loss: 1513.0880 - val_loss: 1539.0079\n",
      "Epoch 220/270\n",
      "100/100 [==============================] - 28s 275ms/step - loss: 1445.2289 - val_loss: 1533.7727\n",
      "Epoch 221/270\n",
      "100/100 [==============================] - 27s 274ms/step - loss: 1480.6011 - val_loss: 1526.0631\n",
      "Epoch 222/270\n",
      "100/100 [==============================] - 27s 269ms/step - loss: 1500.8688 - val_loss: 1523.4095\n",
      "Epoch 223/270\n",
      "100/100 [==============================] - 28s 276ms/step - loss: 1567.6957 - val_loss: 1527.7155\n",
      "Epoch 224/270\n",
      "100/100 [==============================] - 28s 278ms/step - loss: 1265.6858 - val_loss: 1531.1014\n",
      "Epoch 225/270\n",
      "100/100 [==============================] - 27s 274ms/step - loss: 1408.0864 - val_loss: 1518.4799\n",
      "Epoch 226/270\n",
      "100/100 [==============================] - 27s 269ms/step - loss: 1445.0345 - val_loss: 1520.2516\n",
      "Epoch 227/270\n",
      "100/100 [==============================] - 27s 267ms/step - loss: 1532.9076 - val_loss: 1524.2583\n",
      "Epoch 228/270\n",
      "100/100 [==============================] - 27s 272ms/step - loss: 1553.4622 - val_loss: 1526.3584\n",
      "Epoch 229/270\n",
      "100/100 [==============================] - 27s 275ms/step - loss: 1558.2603 - val_loss: 1516.9802\n",
      "Epoch 230/270\n",
      "100/100 [==============================] - 28s 277ms/step - loss: 1576.9936 - val_loss: 1516.9612\n",
      "Epoch 231/270\n",
      "100/100 [==============================] - 27s 272ms/step - loss: 1552.9520 - val_loss: 1506.7347\n",
      "Epoch 232/270\n",
      "100/100 [==============================] - 28s 278ms/step - loss: 1467.0828 - val_loss: 1508.3336\n",
      "Epoch 233/270\n",
      "100/100 [==============================] - 27s 272ms/step - loss: 1415.4958 - val_loss: 1521.4214\n",
      "Epoch 234/270\n",
      "100/100 [==============================] - 27s 271ms/step - loss: 1275.5842 - val_loss: 1525.1210\n",
      "Epoch 235/270\n",
      "100/100 [==============================] - 27s 271ms/step - loss: 1520.7415 - val_loss: 1512.8335\n",
      "Epoch 236/270\n",
      "100/100 [==============================] - 27s 270ms/step - loss: 1521.1210 - val_loss: 1512.4939\n",
      "Epoch 237/270\n",
      "100/100 [==============================] - 27s 272ms/step - loss: 1378.7372 - val_loss: 1499.1890\n",
      "Epoch 238/270\n",
      "100/100 [==============================] - 27s 268ms/step - loss: 1367.5474 - val_loss: 1503.0006\n",
      "Epoch 239/270\n",
      "100/100 [==============================] - 27s 269ms/step - loss: 1459.7720 - val_loss: 1498.2103\n",
      "Epoch 240/270\n",
      "100/100 [==============================] - 27s 270ms/step - loss: 1486.1876 - val_loss: 1491.9436\n",
      "Epoch 241/270\n",
      "100/100 [==============================] - 27s 275ms/step - loss: 1555.0107 - val_loss: 1502.5588\n",
      "Epoch 242/270\n",
      "100/100 [==============================] - 27s 275ms/step - loss: 1470.4186 - val_loss: 1491.9741\n",
      "Epoch 243/270\n",
      "100/100 [==============================] - 27s 274ms/step - loss: 1555.9270 - val_loss: 1501.1448\n",
      "Epoch 244/270\n",
      "100/100 [==============================] - 27s 275ms/step - loss: 1480.4278 - val_loss: 1507.2898\n",
      "Epoch 245/270\n",
      "100/100 [==============================] - 27s 275ms/step - loss: 1541.9572 - val_loss: 1507.6609\n",
      "Epoch 246/270\n",
      "100/100 [==============================] - 27s 273ms/step - loss: 1495.6265 - val_loss: 1503.6918\n",
      "Epoch 247/270\n",
      "100/100 [==============================] - 28s 279ms/step - loss: 1552.6070 - val_loss: 1504.6964\n",
      "Epoch 248/270\n",
      "100/100 [==============================] - 27s 275ms/step - loss: 1468.8152 - val_loss: 1502.2180\n",
      "Epoch 249/270\n",
      "100/100 [==============================] - 28s 279ms/step - loss: 1509.4186 - val_loss: 1509.9581\n",
      "Epoch 250/270\n",
      "100/100 [==============================] - 27s 273ms/step - loss: 1419.0970 - val_loss: 1493.0558\n",
      "Epoch 251/270\n",
      "100/100 [==============================] - 27s 275ms/step - loss: 1448.8841 - val_loss: 1495.5127\n",
      "Epoch 252/270\n",
      "100/100 [==============================] - 27s 271ms/step - loss: 1408.1376 - val_loss: 1491.8323\n",
      "Epoch 253/270\n",
      "100/100 [==============================] - 28s 280ms/step - loss: 1245.4962 - val_loss: 1493.6576\n",
      "Epoch 254/270\n",
      "100/100 [==============================] - 27s 270ms/step - loss: 1467.7239 - val_loss: 1485.9142\n",
      "Epoch 255/270\n",
      "100/100 [==============================] - 28s 276ms/step - loss: 1299.4340 - val_loss: 1502.2511\n",
      "Epoch 256/270\n",
      "100/100 [==============================] - 28s 277ms/step - loss: 1540.0013 - val_loss: 1502.0956\n",
      "Epoch 257/270\n",
      "100/100 [==============================] - 27s 272ms/step - loss: 1512.0023 - val_loss: 1496.2637\n",
      "Epoch 258/270\n",
      "100/100 [==============================] - 27s 271ms/step - loss: 1487.6650 - val_loss: 1476.8285\n",
      "Epoch 259/270\n",
      "100/100 [==============================] - 27s 272ms/step - loss: 1385.1045 - val_loss: 1480.3356\n",
      "Epoch 260/270\n",
      "100/100 [==============================] - 28s 276ms/step - loss: 1433.5743 - val_loss: 1501.9542\n",
      "Epoch 261/270\n",
      "100/100 [==============================] - 27s 270ms/step - loss: 1494.8764 - val_loss: 1473.9181\n",
      "Epoch 262/270\n",
      "100/100 [==============================] - 27s 275ms/step - loss: 1373.3704 - val_loss: 1483.3843\n",
      "Epoch 263/270\n",
      "100/100 [==============================] - 27s 275ms/step - loss: 1512.6073 - val_loss: 1484.5411\n",
      "Epoch 264/270\n",
      "100/100 [==============================] - 28s 276ms/step - loss: 1405.2723 - val_loss: 1489.5178\n",
      "Epoch 265/270\n",
      "100/100 [==============================] - 27s 273ms/step - loss: 1439.0870 - val_loss: 1478.8376\n",
      "Epoch 266/270\n",
      "100/100 [==============================] - 27s 272ms/step - loss: 1341.5968 - val_loss: 1480.6876\n",
      "Epoch 267/270\n",
      "100/100 [==============================] - 28s 275ms/step - loss: 1451.9151 - val_loss: 1481.9586\n",
      "Epoch 268/270\n",
      "100/100 [==============================] - 28s 275ms/step - loss: 1533.0626 - val_loss: 1476.5294\n",
      "Epoch 269/270\n",
      "100/100 [==============================] - 28s 279ms/step - loss: 1467.4305 - val_loss: 1468.6128\n",
      "Epoch 270/270\n",
      "100/100 [==============================] - 27s 274ms/step - loss: 1504.7051 - val_loss: 1470.1149\n",
      "CPU times: user 1h 17min 19s, sys: 28min 36s, total: 1h 45min 55s\n",
      "Wall time: 2h 3min 7s\n"
     ]
    }
   ],
   "source": [
    "%%time\n",
    "#sess.close()\n",
    "# Test small vocab\n",
    "from KerasAutoencoderRunner import main\n",
    "from vaeArgs import *\n",
    "import tensorflow as tf\n",
    "import keras\n",
    "tbCallBack = keras.callbacks.TensorBoard(log_dir='./summaries/', histogram_freq=0, write_graph=True, write_images=True)\n",
    "\n",
    "sess = tf.InteractiveSession(config=tf.ConfigProto(log_device_placement=True,\n",
    "                                                   allow_soft_placement=True))\n",
    "parser = getParser()\n",
    "args = parser.parse_args('data/train data/val -L0.00001 -b1024 -N27000 -E100 '\n",
    "                         '-D 10000 2000 200 2 '\n",
    "                         '-oAdam --idf_path idf-1.npy -z'.split())\n",
    "vae, train_dataset, val_dataset, log = main(args, callbacks=[tbCallBack])"
   ]
  },
  {
   "cell_type": "code",
   "execution_count": 6,
   "metadata": {},
   "outputs": [
    {
     "data": {
      "text/plain": [
       "[<matplotlib.lines.Line2D at 0x7f24e3ca2b70>]"
      ]
     },
     "execution_count": 6,
     "metadata": {},
     "output_type": "execute_result"
    },
    {
     "data": {
      "image/png": "[encoded data removed]",
      "text/plain": [
       "<matplotlib.figure.Figure at 0x7f25438c3128>"
      ]
     },
     "metadata": {},
     "output_type": "display_data"
    }
   ],
   "source": [
    "%matplotlib inline\n",
    "import matplotlib.pyplot as plt\n",
    "plt.plot(log['history']['val_loss'][10:])"
   ]
  },
  {
   "cell_type": "code",
   "execution_count": 8,
   "metadata": {},
   "outputs": [
    {
     "data": {
      "text/plain": [
       "[<matplotlib.lines.Line2D at 0x7fcd1d1f0f60>]"
      ]
     },
     "execution_count": 8,
     "metadata": {},
     "output_type": "execute_result"
    },
    {
     "data": {
      "image/png": "[encoded data removed]",
      "text/plain": [
       "<matplotlib.figure.Figure at 0x7fcd1d440c50>"
      ]
     },
     "metadata": {},
     "output_type": "display_data"
    }
   ],
   "source": [
    "%matplotlib inline\n",
    "import matplotlib.pyplot as plt\n",
    "plt.plot(log['history']['val_loss'][150:])"
   ]
  },
  {
   "cell_type": "markdown",
   "metadata": {},
   "source": [
    "- 1GPU, 50 batches of 512, eval dense before, trimming to 20-600 pages, no tfidf\n",
    "  - Timing: 3min 31s\n",
    "  - loss: 593.0735 - val_loss: 764.8629\n",
    "  \n",
    "- 2GPU, 50 batches of 512, eval dense before, trimming to 20-600 pages, no tfidf\n",
    "  - Timing: 3min 24s\n",
    "  - loss: 511.3504 - val_loss: 808.3628\n",
    "  \n",
    "- 2GPU, 50 steps per epoch with 25 val_steps, batches of 512, passing tensor as data, not trimming, no tfidf\n",
    "  - Timing: 1min 32s\n",
    "  - loss: 7714.0722 - val_loss: 793.6397"
   ]
  },
  {
   "cell_type": "code",
   "execution_count": 9,
   "metadata": {},
   "outputs": [
    {
     "ename": "NameError",
     "evalue": "name 'token_ref' is not defined",
     "output_type": "error",
     "traceback": [
      "\u001b[0;31m---------------------------------------------------------------------------\u001b[0m",
      "\u001b[0;31mNameError\u001b[0m                                 Traceback (most recent call last)",
      "\u001b[0;32m<ipython-input-9-7b7e2f8c7b1d>\u001b[0m in \u001b[0;36m<module>\u001b[0;34m()\u001b[0m\n\u001b[1;32m      1\u001b[0m \u001b[0mencoder\u001b[0m \u001b[0;34m=\u001b[0m \u001b[0mvae\u001b[0m\u001b[0;34m.\u001b[0m\u001b[0mlayers\u001b[0m\u001b[0;34m[\u001b[0m\u001b[0;36m1\u001b[0m\u001b[0;34m]\u001b[0m\u001b[0;34m\u001b[0m\u001b[0m\n\u001b[0;32m----> 2\u001b[0;31m \u001b[0mi\u001b[0m \u001b[0;34m=\u001b[0m \u001b[0mtoken_ref\u001b[0m\u001b[0;34m[\u001b[0m\u001b[0mtoken_ref\u001b[0m\u001b[0;34m.\u001b[0m\u001b[0mtoken\u001b[0m\u001b[0;34m.\u001b[0m\u001b[0misin\u001b[0m\u001b[0;34m(\u001b[0m\u001b[0;34m[\u001b[0m\u001b[0;34m'california'\u001b[0m\u001b[0;34m,\u001b[0m \u001b[0;34m'texas'\u001b[0m\u001b[0;34m,\u001b[0m \u001b[0;34m'colorado'\u001b[0m\u001b[0;34m,\u001b[0m \u001b[0;34m'washington'\u001b[0m\u001b[0;34m,\u001b[0m \u001b[0;34m'state'\u001b[0m\u001b[0;34m]\u001b[0m\u001b[0;34m)\u001b[0m\u001b[0;34m]\u001b[0m\u001b[0;34m.\u001b[0m\u001b[0mindex\u001b[0m\u001b[0;34m\u001b[0m\u001b[0m\n\u001b[0m\u001b[1;32m      3\u001b[0m \u001b[0mprint\u001b[0m\u001b[0;34m(\u001b[0m\u001b[0mi\u001b[0m\u001b[0;34m)\u001b[0m\u001b[0;34m\u001b[0m\u001b[0m\n\u001b[1;32m      4\u001b[0m \u001b[0ma\u001b[0m \u001b[0;34m=\u001b[0m \u001b[0mnp\u001b[0m\u001b[0;34m.\u001b[0m\u001b[0mzeros\u001b[0m\u001b[0;34m(\u001b[0m\u001b[0;34m(\u001b[0m\u001b[0;36m1\u001b[0m\u001b[0;34m,\u001b[0m\u001b[0;36m10000\u001b[0m\u001b[0;34m)\u001b[0m\u001b[0;34m,\u001b[0m \u001b[0;34m'int'\u001b[0m\u001b[0;34m)\u001b[0m\u001b[0;34m\u001b[0m\u001b[0m\n\u001b[1;32m      5\u001b[0m \u001b[0ma\u001b[0m\u001b[0;34m[\u001b[0m\u001b[0;36m0\u001b[0m\u001b[0;34m,\u001b[0m\u001b[0mi\u001b[0m\u001b[0;34m]\u001b[0m \u001b[0;34m=\u001b[0m \u001b[0;36m1\u001b[0m\u001b[0;34m\u001b[0m\u001b[0m\n",
      "\u001b[0;31mNameError\u001b[0m: name 'token_ref' is not defined"
     ]
    }
   ],
   "source": [
    "encoder = vae.layers[1]\n",
    "i = token_ref[token_ref.token.isin(['california', 'texas', 'colorado', 'washington', 'state'])].index\n",
    "print(i)\n",
    "a = np.zeros((1,10000), 'int')\n",
    "a[0,i] = 1\n",
    "b = encoder.predict(a)[2]\n",
    "sims = cdist(b, latent)\n",
    "most_similar_ids = pd.Series(sims[0,:10]).sort_values().index\n",
    "most_similar = [token_ref.iloc[id].token for id in most_similar_ids[1:1+50]]\n",
    "print(most_similar[:20])"
   ]
  },
  {
   "cell_type": "code",
   "execution_count": 10,
   "metadata": {},
   "outputs": [
    {
     "ename": "NameError",
     "evalue": "name 'decoder' is not defined",
     "output_type": "error",
     "traceback": [
      "\u001b[0;31m---------------------------------------------------------------------------\u001b[0m",
      "\u001b[0;31mNameError\u001b[0m                                 Traceback (most recent call last)",
      "\u001b[0;32m<ipython-input-10-03215125e960>\u001b[0m in \u001b[0;36m<module>\u001b[0;34m()\u001b[0m\n\u001b[0;32m----> 1\u001b[0;31m \u001b[0mc\u001b[0m \u001b[0;34m=\u001b[0m \u001b[0mdecoder\u001b[0m\u001b[0;34m.\u001b[0m\u001b[0mpredict\u001b[0m\u001b[0;34m(\u001b[0m\u001b[0mb\u001b[0m\u001b[0;34m)\u001b[0m\u001b[0;34m\u001b[0m\u001b[0m\n\u001b[0m\u001b[1;32m      2\u001b[0m \u001b[0md\u001b[0m \u001b[0;34m=\u001b[0m \u001b[0mpd\u001b[0m\u001b[0;34m.\u001b[0m\u001b[0mSeries\u001b[0m\u001b[0;34m(\u001b[0m\u001b[0mc\u001b[0m\u001b[0;34m[\u001b[0m\u001b[0;36m0\u001b[0m\u001b[0;34m]\u001b[0m\u001b[0;34m)\u001b[0m\u001b[0;34m.\u001b[0m\u001b[0msort_values\u001b[0m\u001b[0;34m(\u001b[0m\u001b[0mascending\u001b[0m\u001b[0;34m=\u001b[0m\u001b[0;32mFalse\u001b[0m\u001b[0;34m)\u001b[0m\u001b[0;34m\u001b[0m\u001b[0m\n\u001b[1;32m      3\u001b[0m \u001b[0me\u001b[0m \u001b[0;34m=\u001b[0m \u001b[0md\u001b[0m\u001b[0;34m.\u001b[0m\u001b[0mindex\u001b[0m\u001b[0;34m\u001b[0m\u001b[0m\n\u001b[1;32m      4\u001b[0m \u001b[0mtoken_ref\u001b[0m\u001b[0;34m.\u001b[0m\u001b[0miloc\u001b[0m\u001b[0;34m[\u001b[0m\u001b[0me\u001b[0m\u001b[0;34m]\u001b[0m\u001b[0;34m.\u001b[0m\u001b[0mhead\u001b[0m\u001b[0;34m(\u001b[0m\u001b[0;34m)\u001b[0m\u001b[0;34m\u001b[0m\u001b[0m\n",
      "\u001b[0;31mNameError\u001b[0m: name 'decoder' is not defined"
     ]
    }
   ],
   "source": [
    "c = decoder.predict(b)\n",
    "d = pd.Series(c[0]).sort_values(ascending=False)\n",
    "e = d.index\n",
    "token_ref.iloc[e].head()"
   ]
  },
  {
   "cell_type": "code",
   "execution_count": 11,
   "metadata": {},
   "outputs": [],
   "source": [
    "import tensorflow as tf\n",
    "import numpy as np\n",
    "import pandas as pd\n",
    "from scipy.spatial.distance import pdist, cdist\n",
    "trim_head = 200\n",
    "token_ref = pd.read_csv('eng-vocab-1.txt.bz2', names=['token'])[trim_head:].reset_index(drop=True)\n",
    "weights1 = vae.weights[0].eval()\n",
    "weights2 = vae.weights[-2].eval().T\n",
    "idf = np.load('idf-1.npy')[trim_head:]"
   ]
  },
  {
   "cell_type": "code",
   "execution_count": 60,
   "metadata": {},
   "outputs": [
    {
     "name": "stdout",
     "output_type": "stream",
     "text": [
      "0\n",
      "5\n"
     ]
    }
   ],
   "source": [
    "# Create an array with a doc for each term, consisting of only that term\n",
    "arrs = []\n",
    "vsize = 15000\n",
    "for i in range(10):\n",
    "    ones = np.zeros((1000, vsize))\n",
    "    for j in range(1000):\n",
    "        #np.fill_diagonal(ones, np.load(\"idf-1.npy\"))\n",
    "        ones[j, i*1000+j] = idf[i*1000+j]\n",
    "    encoder = vae.layers[1]\n",
    "    latent = encoder.predict(ones)[0]\n",
    "    arrs.append(latent)\n",
    "    if i % 5 == 0:\n",
    "        print(i)\n",
    "latent = np.vstack(arrs)\n",
    "del arrs\n",
    "\n",
    "def get_similar_words(word, n=10, trim=200000, latent=latent):\n",
    "    word_i = token_ref[token_ref.token == word].index[0]\n",
    "    wordvec = latent[word_i, :]\n",
    "    sims = cdist([wordvec], latent, metric='cosine')\n",
    "    most_similar_ids = pd.Series(sims[0,:trim]).sort_values().index\n",
    "    most_similar = [token_ref.iloc[id].token for id in most_similar_ids[1:1+n]]\n",
    "    return most_similar"
   ]
  },
  {
   "cell_type": "code",
   "execution_count": 17,
   "metadata": {},
   "outputs": [
    {
     "data": {
      "text/plain": [
       "(359, 6442, 2536)"
      ]
     },
     "execution_count": 17,
     "metadata": {},
     "output_type": "execute_result"
    }
   ],
   "source": [
    "def get_word_vec(word)\n",
    "    word_i = token_ref[token_ref.token == word].index[0]\n",
    "    vec = np.zeros((1, vsize))\n",
    "    vec[word_i] = "
   ]
  },
  {
   "cell_type": "code",
   "execution_count": 254,
   "metadata": {},
   "outputs": [
    {
     "data": {
      "text/plain": [
       "(0.9792690457569801, 1.0095934147845405)"
      ]
     },
     "execution_count": 254,
     "metadata": {},
     "output_type": "execute_result"
    }
   ],
   "source": [
    "a = np.array([distance.cosine(encoder.predict(vec1)[2][0], encoder.predict(vec2)[2][0]) for a in range(10)])\n",
    "b = np.array([distance.cosine(encoder.predict(vec1)[2][0], encoder.predict(vec3)[2][0]) for a in range(10)])\n",
    "a.mean(), b.mean()"
   ]
  },
  {
   "cell_type": "code",
   "execution_count": 14,
   "metadata": {},
   "outputs": [],
   "source": [
    "vae1.load_weights('models/L0.0000100-H2100-G1000-b512-l200-N24000-E100-v202498-t100000-oAdam-SCross-entropy-idf-keras-full.h5')"
   ]
  },
  {
   "cell_type": "code",
   "execution_count": null,
   "metadata": {},
   "outputs": [],
   "source": [
    "## Plot"
   ]
  },
  {
   "cell_type": "code",
   "execution_count": 12,
   "metadata": {},
   "outputs": [
    {
     "name": "stdout",
     "output_type": "stream",
     "text": [
      "0-: deputy, favored, scope, prompt, presbyterian, twelve, hugh, sustained, existence, thereby\n",
      "0+: solomon, imperfect, instructions, edwin, tout, relief, provinces, discoveries, prizes, europe\n",
      "1-: '\", businesses, legislation, agency, imperial, volunteer, tom, towers, treasury, remained\n",
      "1+: lost, oriental, ltd, hearings, perception, resist, negro, prime, makes, neighbourhood\n"
     ]
    }
   ],
   "source": [
    "latent_n = 2\n",
    "decoder = vae.layers[2]\n",
    "import scipy.stats\n",
    "# See what the dimensions are about\n",
    "ones = np.zeros((latent_n,latent_n))\n",
    "np.fill_diagonal(ones, np.ones(latent_n))\n",
    "reconstructed = decoder.predict(ones)\n",
    "ztopics = scipy.stats.zscore(reconstructed, axis=0)\n",
    "\n",
    "vocab_lim = 10000 # Only inspect words at index vocab_lim and above\n",
    "\n",
    "for i in range(0,latent_n):\n",
    "    ind = pd.Series(ztopics[i]).sort_values().index\n",
    "    ind = ind[ind < vocab_lim]\n",
    "    print(\"%d-: %s\" % (i, \", \".join(token_ref.iloc[ind[-10:]][::-1]['token'].tolist())))\n",
    "    print(\"%d+: %s\" % (i, \", \".join(token_ref.iloc[ind[:10]]['token'].tolist())))"
   ]
  },
  {
   "cell_type": "code",
   "execution_count": 7,
   "metadata": {},
   "outputs": [
    {
     "name": "stdout",
     "output_type": "stream",
     "text": [
      "L0.0000100-D10000_2000_200_2-b1024-N27000-E100-v202498-oAdam-SCrossEntropy-idf [1476.5294189453125, 1468.61279296875, 1470.1148681640625] idf\n"
     ]
    },
    {
     "ename": "NameError",
     "evalue": "name 'get_similar_words' is not defined",
     "output_type": "error",
     "traceback": [
      "\u001b[0;31m---------------------------------------------------------------------------\u001b[0m",
      "\u001b[0;31mNameError\u001b[0m                                 Traceback (most recent call last)",
      "\u001b[0;32m<ipython-input-7-abdf32d532d8>\u001b[0m in \u001b[0;36m<module>\u001b[0;34m()\u001b[0m\n\u001b[1;32m      1\u001b[0m \u001b[0mprint\u001b[0m\u001b[0;34m(\u001b[0m\u001b[0mlog\u001b[0m\u001b[0;34m[\u001b[0m\u001b[0;34m'params'\u001b[0m\u001b[0;34m]\u001b[0m\u001b[0;34m,\u001b[0m \u001b[0mlog\u001b[0m\u001b[0;34m[\u001b[0m\u001b[0;34m'history'\u001b[0m\u001b[0;34m]\u001b[0m\u001b[0;34m[\u001b[0m\u001b[0;34m'val_loss'\u001b[0m\u001b[0;34m]\u001b[0m\u001b[0;34m[\u001b[0m\u001b[0;34m-\u001b[0m\u001b[0;36m3\u001b[0m\u001b[0;34m:\u001b[0m\u001b[0;34m]\u001b[0m\u001b[0;34m,\u001b[0m \u001b[0;34m'idf'\u001b[0m \u001b[0;32mif\u001b[0m \u001b[0;34m(\u001b[0m\u001b[0margs\u001b[0m\u001b[0;34m.\u001b[0m\u001b[0midf_path\u001b[0m\u001b[0;34m)\u001b[0m \u001b[0;32mis\u001b[0m \u001b[0;32mnot\u001b[0m \u001b[0;32mNone\u001b[0m \u001b[0;32melse\u001b[0m \u001b[0;34m'no idf'\u001b[0m\u001b[0;34m)\u001b[0m\u001b[0;34m\u001b[0m\u001b[0m\n\u001b[1;32m      2\u001b[0m \u001b[0;32mfor\u001b[0m \u001b[0mword\u001b[0m \u001b[0;32min\u001b[0m \u001b[0;34m[\u001b[0m\u001b[0;34m'love'\u001b[0m\u001b[0;34m,\u001b[0m \u001b[0;34m'canada'\u001b[0m\u001b[0;34m,\u001b[0m \u001b[0;34m'president'\u001b[0m\u001b[0;34m,\u001b[0m \u001b[0;34m'beach'\u001b[0m\u001b[0;34m]\u001b[0m\u001b[0;34m:\u001b[0m\u001b[0;34m\u001b[0m\u001b[0m\n\u001b[0;32m----> 3\u001b[0;31m     \u001b[0mresults\u001b[0m \u001b[0;34m=\u001b[0m \u001b[0mget_similar_words\u001b[0m\u001b[0;34m(\u001b[0m\u001b[0mword\u001b[0m\u001b[0;34m,\u001b[0m \u001b[0mtrim\u001b[0m\u001b[0;34m=\u001b[0m\u001b[0;36m10000\u001b[0m\u001b[0;34m)\u001b[0m\u001b[0;34m\u001b[0m\u001b[0m\n\u001b[0m\u001b[1;32m      4\u001b[0m     \u001b[0mprint\u001b[0m\u001b[0;34m(\u001b[0m\u001b[0mword\u001b[0m \u001b[0;34m+\u001b[0m \u001b[0;34m\":\\t\"\u001b[0m\u001b[0;34m,\u001b[0m \u001b[0;34m\", \"\u001b[0m\u001b[0;34m.\u001b[0m\u001b[0mjoin\u001b[0m\u001b[0;34m(\u001b[0m\u001b[0mresults\u001b[0m\u001b[0;34m)\u001b[0m\u001b[0;34m)\u001b[0m\u001b[0;34m\u001b[0m\u001b[0m\n",
      "\u001b[0;31mNameError\u001b[0m: name 'get_similar_words' is not defined"
     ]
    }
   ],
   "source": [
    "print(log['params'], log['history']['val_loss'][-3:], 'idf' if (args.idf_path) is not None else 'no idf')\n",
    "for word in ['love', 'canada', 'president', 'beach']:\n",
    "    results = get_similar_words(word, trim=10000)\n",
    "    print(word + \":\\t\", \", \".join(results))"
   ]
  },
  {
   "cell_type": "code",
   "execution_count": 14,
   "metadata": {},
   "outputs": [
    {
     "name": "stdout",
     "output_type": "stream",
     "text": [
      "L0.0000100-D15000_5000_1000_200-b1024-N50000-E250-v202498-oAdam-SCrossEntropy-idf [-665.8364868164062, -666.4826049804688, -658.251220703125] idf\n",
      "love:\t yr, members, curriculum, bell, ocean, cultures, counting, trustees, turning, grows\n",
      "canada:\t nature, lawyer, truck, poetry, madam, 0.00, alarm, unusually, respectfully, irving\n",
      "president:\t guess, withdrawn, simultaneously, shipments, tenth, johnson, carpenter, nutrition, pitt, maxwell\n",
      "beach:\t rails, arrive, maintains, spherical, knights, calling, ring, col, punishment, 467\n"
     ]
    }
   ],
   "source": [
    "print(log['params'], log['history']['val_loss'][-3:], 'idf' if (args.idf_path) is not None else 'no idf')\n",
    "for word in ['love', 'canada', 'president', 'beach']:\n",
    "    results = get_similar_words(word, trim=10000)\n",
    "    print(word + \":\\t\", \", \".join(results))"
   ]
  },
  {
   "cell_type": "code",
   "execution_count": 8,
   "metadata": {},
   "outputs": [
    {
     "name": "stdout",
     "output_type": "stream",
     "text": [
      "L0.0000100-H1500-G1000-b1024-l200-N10000-E100-v202498-t10000-oAdam-SCross-entropy-idf [1265.174072265625, 1264.38037109375, 1237.466064453125] idf\n",
      "love:\t become, forbes, creditor, pathological, sealed, enjoyment, israel, ceremonies, vibration, leather\n",
      "canada:\t photo, friendly, prey, mass., recent, literally, name, school, lebanon, patient\n",
      "president:\t fold, news, promoted, philosophers, suspended, locations, countenance, stressed, patronage, steady\n",
      "beach:\t burst, 307, argues, ores, forthwith, conductors, utility, nerve, residue, hose\n"
     ]
    }
   ],
   "source": [
    "print(log['params'], log['history']['val_loss'][-3:], 'idf' if (args.idf_path) is not None else 'no idf')\n",
    "for word in ['love', 'canada', 'president', 'beach']:\n",
    "    results = get_similar_words(word, trim=10000)\n",
    "    print(word + \":\\t\", \", \".join(results))"
   ]
  },
  {
   "cell_type": "code",
   "execution_count": 15,
   "metadata": {},
   "outputs": [
    {
     "name": "stdout",
     "output_type": "stream",
     "text": [
      "L0.0000100-D15000_5000_1000_200-b1024-N50000-E250-v202498-oAdam-SCrossEntropy-idf [-665.8364868164062, -666.4826049804688, -658.251220703125] idf\n",
      "love:\t loved, soul, heart, loves, god, lover, thy, loving, heaven, thine, thee, thou, sweet, passion, song\n",
      "canada:\t canadian, quebec, ontario, toronto, montreal, ottawa, scotia, vancouver, dominion, province, ont, nova, provincial, australia, halifax\n",
      "president:\t secretary, chairman, executive, vice-president, committee, elected, vice, members, treasurer, appointed, director, meeting, assistant, senate, congress\n",
      "beach:\t bay, shore, island, san, angeles, sea, sand, ocean, miami, coastal, harbor, los, tide, waves, diego\n"
     ]
    }
   ],
   "source": [
    "print(log['params'], log['history']['val_loss'][-3:], 'idf' if (args.idf_path) is not None else 'no idf')\n",
    "for word in ['love', 'canada', 'president', 'beach']:\n",
    "    results = get_similar_words(word, trim=10000, n=15, latent=weights2)\n",
    "    print(word + \":\\t\", \", \".join(results))"
   ]
  },
  {
   "cell_type": "code",
   "execution_count": 16,
   "metadata": {},
   "outputs": [
    {
     "name": "stdout",
     "output_type": "stream",
     "text": [
      "L0.0000100-D15000_5000_1000_200-b1024-N50000-E250-v202498-oAdam-SCrossEntropy-idf [-665.8364868164062, -666.4826049804688, -658.251220703125] idf\n",
      "love:\t god, soul, loved, thee, heaven, thy, lover, mother, happiness, hearts, passion, divine, loves, dear, father\n",
      "canada:\t canadian, ontario, quebec, ottawa, montreal, nova, toronto, scotia, provincial, america, zealand, ont, britain, dominion, england\n",
      "president:\t secretary, chairman, executive, vice-president, members, elected, appointed, committees, treasurer, vice, member, director, congress, meeting, committee\n",
      "beach:\t ocean, island, shore, harbor, bay, sea, wave, depth, waters, shores, angeles, plastic, coast, voyage, ridge\n"
     ]
    }
   ],
   "source": [
    "print(log['params'], log['history']['val_loss'][-3:], 'idf' if (args.idf_path) is not None else 'no idf')\n",
    "for word in ['love', 'canada', 'president', 'beach']:\n",
    "    results = get_similar_words(word, trim=10000, n=15, latent=weights1)\n",
    "    print(word + \":\\t\", \", \".join(results))"
   ]
  },
  {
   "cell_type": "code",
   "execution_count": 13,
   "metadata": {},
   "outputs": [
    {
     "name": "stdout",
     "output_type": "stream",
     "text": [
      "L0.0000100-H1500-G1000-b1024-l200-N10000-E100-v202498-t10000-oAdam-SCross-entropy-idf [1265.174072265625, 1264.38037109375, 1237.466064453125] idf\n",
      "love:\t god, thou, thy, thee, soul, jesus, lord, 'd, heaven, hast, father, hath, n't, christ, know\n",
      "canada:\t fax, american, assn, mgr, journal, market, resources, sales, international, president, billion, dir, industry, council, mining\n",
      "president:\t committee, members, secretary, council, board, chairman, vote, delegate, convention, delegates, school, department, director, association, executive\n",
      "beach:\t ave, cumberland, box, villa, bridge, manor, guest, blvd, ein, gasoline, minn, po, detroit, home, contact\n"
     ]
    }
   ],
   "source": [
    "print(log['params'], log['history']['val_loss'][-3:], 'idf' if (args.idf_path) is not None else 'no idf')\n",
    "for word in ['love', 'canada', 'president', 'beach']:\n",
    "    results = get_similar_words(word, trim=10000, n=15, latent=weights2)\n",
    "    print(word + \":\\t\", \", \".join(results))"
   ]
  },
  {
   "cell_type": "code",
   "execution_count": 6,
   "metadata": {},
   "outputs": [
    {
     "name": "stdout",
     "output_type": "stream",
     "text": [
      "L0.0000100-H1500-G0-b256-l512-N10000-E100-v202498-t10000-oAdam-SCross-entropy-idf [1531.830322265625, 1534.1256103515625, 1509.1663818359375] idf\n",
      "love:\t video, mar, cos, configuration, derivatives, marshal, technology, cylinders, fit, wage\n",
      "canada:\t moves, conspicuous, scholar, full, cheese, creative, analyze, interrupted, arteries, instructor\n",
      "president:\t everybody, imperial, ans, established, cure, pet, asian, ratio, respective, hat\n",
      "beach:\t live, full, regular, gathering, user, psychiatric, designation, postage, sam, rubber\n"
     ]
    }
   ],
   "source": [
    "print(log['params'], log['history']['val_loss'][-3:], 'idf' if (args.idf_path) is not None else 'no idf')\n",
    "for word in ['love', 'canada', 'president', 'beach']:\n",
    "    results = get_similar_words(word, trim=10000)\n",
    "    print(word + \":\\t\", \", \".join(results))"
   ]
  },
  {
   "cell_type": "code",
   "execution_count": 7,
   "metadata": {},
   "outputs": [
    {
     "name": "stdout",
     "output_type": "stream",
     "text": [
      "L0.0000100-H1500-G0-b256-l512-N10000-E100-v202498-t10000-oAdam-SCross-entropy-idf [1531.830322265625, 1534.1256103515625, 1509.1663818359375] idf\n",
      "love:\t mother, blessed, heaven, pray, holy, christ, sorrow, heavenly, soul, loves\n",
      "canada:\t jersey, brussels, seven, japan, northwest, canadian, carry, period, communications, rico\n",
      "president:\t executive, secretary, chairman, treasurer, affairs, director, association, trustee, meeting, council\n",
      "beach:\t periodical, ocean, cedar, barn, yorkshire, eighth, 19th, grove, orange, carroll\n"
     ]
    }
   ],
   "source": [
    "print(log['params'], log['history']['val_loss'][-3:], 'idf' if (args.idf_path) is not None else 'no idf')\n",
    "for word in ['love', 'canada', 'president', 'beach']:\n",
    "    results = get_similar_words(word, trim=10000, latent=weights)\n",
    "    print(word + \":\\t\", \", \".join(results))"
   ]
  },
  {
   "cell_type": "code",
   "execution_count": 73,
   "metadata": {},
   "outputs": [
    {
     "name": "stdout",
     "output_type": "stream",
     "text": [
      "L0.0001000-H1000-G0-b256-l200-N1000-E128-v202498-t10000 [-994.364990234375, -1035.197509765625, -1064.408203125] no idf\n",
      "148 (1, 10000) (200,)\n",
      "water:\t stairs, executors, beasts, innumerable, circular, position, sanction, version, bishops, false\n",
      "559 (1, 10000) (200,)\n",
      "love:\t faster, experience, overseas, cette, county, diseased, affection, acquaintance, complained, protective\n",
      "955 (1, 10000) (200,)\n",
      "canada:\t derby, security, res, magnetic, morocco, 422, behold, windows, propagation, settling\n",
      "362 (1, 10000) (200,)\n",
      "president:\t furnaces, thank, pleased, lights, west, abolition, lost, tube, 'll, khan\n",
      "3390 (1, 10000) (200,)\n",
      "beach:\t di, 92, patent, presence, windows, develops, harder, cholera, dream, wages\n"
     ]
    }
   ],
   "source": [
    "print(log['params'], log['history']['val_loss'][-3:], 'idf' if (args.idf_path) is not None else 'no idf')\n",
    "for word in ['water', 'love', 'canada', 'president', 'beach']:\n",
    "    results = get_similar_words(word, trim=10000)\n",
    "    print(word + \":\\t\", \", \".join(results))"
   ]
  },
  {
   "cell_type": "code",
   "execution_count": 60,
   "metadata": {},
   "outputs": [
    {
     "name": "stdout",
     "output_type": "stream",
     "text": [
      "L0.0001000-H1000-G0-b256-l200-N1000-E128-v202498-t10000 [-994.364990234375, -1035.197509765625, -1064.408203125] no idf\n",
      "water:\t leaf, hero, 5.4, park, hate, fee, pays, plant, lattice, serving\n",
      "love:\t camden, washington, n.y, distinct, issue, lifted, recognize, we, 103, 363\n",
      "canada:\t 1949, 294, scholar, 409, less, jean, shadows, gloucester, imperial, pays\n",
      "president:\t optimal, scholar, afterward, reasons, speakers, park, 1.50, launched, 493, alone\n",
      "beach:\t spain, putting, 565, systematic, cases, passed, 294, admiration, 29th, preparing\n"
     ]
    }
   ],
   "source": [
    "print(log['params'], log['history']['val_loss'][-3:], 'idf' if (args.idf_path) is not None else 'no idf')\n",
    "for word in ['water', 'love', 'canada', 'president', 'beach']:\n",
    "    results = get_similar_words(word, trim=10000)\n",
    "    print(word + \":\\t\", \", \".join(results))"
   ]
  },
  {
   "cell_type": "code",
   "execution_count": 24,
   "metadata": {},
   "outputs": [
    {
     "name": "stdout",
     "output_type": "stream",
     "text": [
      "L0.0001000-H1000-G0-b256-l200-N1000-E128-v202498-t10000 [-994.364990234375, -1035.197509765625, -1064.408203125] no idf\n",
      "water:\t 167, plymouth, disabled, veteran, songs, resistance, borders, 1840, profiles, independent\n",
      "love:\t caroline, newspapers, telephone, medal, amplitude, said, places, tones, locally, alloy\n",
      "canada:\t ber, 0., collective, austria, chance, limitation, strange, photograph, object, open\n",
      "president:\t rarely, sphere, 238, pratt, foliage, lowering, behold, shifting, page, purchasers\n",
      "beach:\t appointments, require, turkey, known, aug., ses, ie, low, alaska, elderly\n"
     ]
    }
   ],
   "source": [
    "print(log['params'], log['history']['val_loss'][-3:], 'idf' if (args.idf_path) is not None else 'no idf')\n",
    "for word in ['water', 'love', 'canada', 'president', 'beach']:\n",
    "    results = get_similar_words(word, trim=10000)\n",
    "    print(word + \":\\t\", \", \".join(results))"
   ]
  },
  {
   "cell_type": "code",
   "execution_count": 7,
   "metadata": {},
   "outputs": [
    {
     "name": "stdout",
     "output_type": "stream",
     "text": [
      "L0.0001000-H1000-G0-b256-l200-N1000-E128-v202498-t10000 [-994.364990234375, -1035.197509765625, -1064.408203125] no idf\n",
      "water:\t control, low, soil, applied, crop, applications, plants, growth, used, area\n",
      "love:\t heaven, ladies, joy, friend, honour, live, memories, spirit, ghost, thoughts\n",
      "canada:\t financial, texas, sales, ltd., limited, stock, technical, laboratory, safety, annual\n",
      "president:\t director, secretary, executive, chairman, bills, held, association, business, citizens, affairs\n",
      "beach:\t mont, oak, bennett, autumn, harrison, bristol, drive, nelson, 13th, plains\n"
     ]
    }
   ],
   "source": [
    "print(log['params'], log['history']['val_loss'][-3:], 'idf' if (args.idf_path) is not None else 'no idf')\n",
    "for word in ['water', 'love', 'canada', 'president', 'beach']:\n",
    "    results = get_similar_words(word, trim=10000)\n",
    "    print(word + \":\\t\", \", \".join(results))"
   ]
  },
  {
   "cell_type": "code",
   "execution_count": 5,
   "metadata": {},
   "outputs": [
    {
     "name": "stdout",
     "output_type": "stream",
     "text": [
      "water:\t waters, streams, waste, drinking, irrigation, pollution, salt, stream, tank, hot\n",
      "love:\t joy, spirit, loved, grace, soul, tears, beauty, heaven, golden, youth\n",
      "canada:\t canadian, ontario, australia, mexico, european, toronto, columbia, atlantic, italy, holland\n",
      "president:\t secretary, executive, convention, vice, chairman, manager, meeting, members, member, association\n",
      "beach:\t santa, grove, antonio, portland, pike, shore, southwest, diego, rapids, miami\n"
     ]
    }
   ],
   "source": [
    "# Trained on trimmed - 10k words, -H200\n",
    "for word in ['water', 'love', 'canada', 'president', 'beach']:\n",
    "    results = get_similar_words(word)\n",
    "    print(word + \":\\t\", \", \".join(results))"
   ]
  },
  {
   "cell_type": "code",
   "execution_count": 22,
   "metadata": {},
   "outputs": [
    {
     "name": "stdout",
     "output_type": "stream",
     "text": [
      "water:\t during, above, following, effect, high, used, control, number, small, air\n",
      "love:\t friend, daughter, father, friends, lord, brother, boy, wife, woman, 'll\n",
      "canada:\t western, address, texas, january, august, reports, california, november, september, etc.\n",
      "president:\t secretary, members, member, america, books, bill, officers, war, british, congress\n",
      "beach:\t memorial, orange, cook, warren, ray, columbus, roberts, del, oak, lane\n"
     ]
    }
   ],
   "source": [
    "# Trained on 5700*256\n",
    "for word in ['water', 'love', 'canada', 'president', 'beach']:\n",
    "    results = get_similar_words(word)\n",
    "    print(word + \":\\t\", \", \".join(results))"
   ]
  },
  {
   "cell_type": "code",
   "execution_count": 30,
   "metadata": {},
   "outputs": [
    {
     "name": "stdout",
     "output_type": "stream",
     "text": [
      "water:\t dry, product, small, material, low, over, heat, red, point, main\n",
      "love:\t joy, lady, voice, brother, song, heaven, story, moon, dream, mother\n",
      "canada:\t canadian, branch, ontario, mexico, usa, park, 2001, arizona, pacific, colorado\n",
      "president:\t street, manager, million, vice, road, sales, delivery, employees, north, west\n",
      "beach:\t bush, grove, pleasant, brook, willow, star, cumberland, worcester, norfolk, fort\n"
     ]
    }
   ],
   "source": [
    "# Trained on 270\n",
    "for word in ['water', 'love', 'canada', 'president', 'beach']:\n",
    "    results = get_similar_words(word)\n",
    "    print(word + \":\\t\", \", \".join(results))"
   ]
  },
  {
   "cell_type": "code",
   "execution_count": 66,
   "metadata": {},
   "outputs": [
    {
     "name": "stdout",
     "output_type": "stream",
     "text": [
      "water:\t policy, power, half, development, following, provide, using, problems, europe, include\n",
      "love:\t god, eyes, beauty, authors, segments, sing, 'm, birds, motion, colorado\n",
      "canada:\t france, 70, educational, 60, 90, exceed, primary, 40, 80, america\n",
      "president:\t april, going, already, seems, various, pay, around, short, regard, plant\n"
     ]
    }
   ],
   "source": [
    "# Trained on 50\n",
    "for word in ['water', 'love', 'canada', 'president']:\n",
    "    results = get_similar_words(word)\n",
    "    print(word + \":\\t\", \", \".join(results))"
   ]
  },
  {
   "cell_type": "code",
   "execution_count": 37,
   "metadata": {},
   "outputs": [
    {
     "data": {
      "text/plain": [
       "<matplotlib.axes._subplots.AxesSubplot at 0x7fc7c00dee48>"
      ]
     },
     "execution_count": 37,
     "metadata": {},
     "output_type": "execute_result"
    },
    {
     "data": {
      "image/png": "[encoded data removed]",
      "text/plain": [
       "<matplotlib.figure.Figure at 0x7fc7c00de208>"
      ]
     },
     "metadata": {},
     "output_type": "display_data"
    }
   ],
   "source": [
    "%matplotlib inline\n",
    "d = pd.DataFrame(all_hist).applymap(lambda x: x[0])\n",
    "d.loss.plot()"
   ]
  },
  {
   "cell_type": "code",
   "execution_count": 39,
   "metadata": {},
   "outputs": [
    {
     "data": {
      "text/plain": [
       "<matplotlib.axes._subplots.AxesSubplot at 0x7fc7a430f390>"
      ]
     },
     "execution_count": 39,
     "metadata": {},
     "output_type": "execute_result"
    },
    {
     "data": {
      "image/png": "[encoded data removed]",
      "text/plain": [
       "<matplotlib.figure.Figure at 0x7fc7a42da940>"
      ]
     },
     "metadata": {},
     "output_type": "display_data"
    }
   ],
   "source": [
    "d.val_loss[5:].plot()"
   ]
  }
 ],
 "metadata": {
  "kernelspec": {
   "display_name": "Python 3",
   "language": "python",
   "name": "python3"
  },
  "language_info": {
   "codemirror_mode": {
    "name": "ipython",
    "version": 3
   },
   "file_extension": ".py",
   "mimetype": "text/x-python",
   "name": "python",
   "nbconvert_exporter": "python",
   "pygments_lexer": "ipython3",
   "version": "3.5.3"
  }
 },
 "nbformat": 4,
 "nbformat_minor": 2
}
