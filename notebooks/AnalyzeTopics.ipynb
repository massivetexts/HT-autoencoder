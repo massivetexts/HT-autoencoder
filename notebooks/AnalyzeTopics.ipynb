{
 "cells": [
  {
   "cell_type": "code",
   "execution_count": 16,
   "metadata": {},
   "outputs": [
    {
     "name": "stderr",
     "output_type": "stream",
     "text": [
      "/usr/lib/python3/dist-packages/h5py/__init__.py:34: FutureWarning: Conversion of the second argument of issubdtype from `float` to `np.floating` is deprecated. In future, it will be treated as `np.float64 == np.dtype(float).type`.\n",
      "  from ._conv import register_converters as _register_converters\n",
      "Using TensorFlow backend.\n"
     ]
    }
   ],
   "source": [
    "import numpy as np\n",
    "import scipy.stats\n",
    "import pandas as pd\n",
    "import keras.backend as K\n",
    "from vae import create_vae, restore_model\n",
    "import tensorflow as tf\n",
    "from vaeArgs import *"
   ]
  },
  {
   "cell_type": "code",
   "execution_count": null,
   "metadata": {},
   "outputs": [],
   "source": [
    "sess.close()"
   ]
  },
  {
   "cell_type": "code",
   "execution_count": 17,
   "metadata": {},
   "outputs": [],
   "source": [
    "# Avoid GPU for memory issues (so I can do analysis while GPU is training elsewhere)\n",
    "sess = tf.InteractiveSession(config=tf.ConfigProto(log_device_placement=True,\n",
    "                                                   device_count={'GPU': 0}))"
   ]
  },
  {
   "cell_type": "code",
   "execution_count": 187,
   "metadata": {},
   "outputs": [],
   "source": [
    "#args, vae = restore_model('models/L0.0000100-D200000_1200_800_200-b256-N85000-E1000-l1000.0-a1.0-v202498-kMMD-idf-keras-full.h5')\n",
    "args, vae = restore_model('data/literature/models/L0.0000500-D10000_2000_50-b256-N5000-E500-l1-a0-v202498-kELBO-idf-keras-full.h5')\n",
    "encoder = vae.get_layer('encoder')\n",
    "decoder = vae.get_layer('decoder')\n",
    "latent_n = encoder.get_layer('z').output_shape[1]"
   ]
  },
  {
   "cell_type": "code",
   "execution_count": 188,
   "metadata": {},
   "outputs": [],
   "source": [
    "trim_head = 200\n",
    "token_ref = pd.read_csv('eng-vocab-1.txt.bz2', names=['token'])[trim_head:].reset_index(drop=True)\n",
    "idf = np.load('idf-1.npy')[trim_head:]"
   ]
  },
  {
   "cell_type": "markdown",
   "metadata": {},
   "source": [
    "# Using the generator to inspect the latent dimensions (akin to topics)"
   ]
  },
  {
   "cell_type": "code",
   "execution_count": 189,
   "metadata": {},
   "outputs": [],
   "source": [
    "def ae_moments(decoder):\n",
    "    '''\n",
    "    Generate fake documents evenly distributed across the latent space, then\n",
    "    return the generated documents with their mean and stddev\n",
    "    '''\n",
    "    latent_n = decoder.get_layer('DecoderInput').input_shape[1]\n",
    "    ones = np.zeros((latent_n,latent_n))\n",
    "    np.fill_diagonal(ones, np.ones(latent_n))\n",
    "    reconstructed = decoder.predict(ones)\n",
    "    _std, _mean = reconstructed.std(axis=0), reconstructed.mean(axis=0)\n",
    "    return reconstructed, _std, _mean"
   ]
  },
  {
   "cell_type": "code",
   "execution_count": 203,
   "metadata": {},
   "outputs": [
    {
     "name": "stdout",
     "output_type": "stream",
     "text": [
      "0-: everyone, laughed, music, laughing, dare, laugh, hall, students, soldiers, revolution\n",
      "0+: islands, miles, rock, luck, coast, mile, trunk, island, bay, pacific\n",
      "1-: sam, sit, chair, come, table, friend, lord, george, simon, aaron\n",
      "1+: yards, japanese, bull, spot, girl, violet, ceremony, dawn, spencer, eighteen\n",
      "2-: carriage, delight, lovely, conversation, delightful, joy, fond, ladies, manners, soon\n",
      "2+: tim, murder, bloody, killed, lying, murphy, kill, does, data, giant\n",
      "3-: police, constable, oliver, sergeant, office, inspector, club, clients, julia, bus\n",
      "3+: rose, feet, lay, does, brother, wind, foot, trees, leaves, why\n",
      "4-: morning, driver, picked, pocket, next, crew, night, george, rain, cards\n",
      "4+: paintings, ancestors, ghost, wanting, subtle, slave, picture, grace, existence, understanding\n",
      "5-: bird, feathers, birds, wings, wi, an', fur, ye, season, set\n",
      "5+: understand, students, n't, guilty, something, murder, believe, front, stopped, press\n",
      "6-: wanted, information, according, question, monks, estate, account, questions, holmes, since\n",
      "6+: smiling, hot, warm, eyes, dim, watching, bob, closed, animal, cheek\n",
      "7-: morning, thing, dressed, wear, things, dress, arthur, breakfast, silk, myself\n",
      "7+: became, toward, forward, struggle, slowly, urged, victory, defeat, release, increased\n",
      "8-: replied, poor, stranger, mine, hope, wish, alas, bear, ever, nor\n",
      "8+: navy, background, edward, routine, henry, america, morgan, press, japanese, landing\n",
      "9-: trees, slopes, animals, river, valley, plateau, tribe, eggs, sheep, village\n",
      "9+: truth, quit, waiting, n't, better, somebody, done, sooner, alone, go\n",
      "10-: world, buried, breath, earth, died, grass, crying, suddenly, eternal, everything\n",
      "10+: question, party, member, parties, allen, acquainted, county, ask, answer, thompson\n",
      "11-: yesterday, ho, trouble, seems, lieutenant, gets, shooting, um, tough, hunt\n",
      "11+: herself, hands, stood, street, arms, peter, inside, countess, duke, pulled\n",
      "12-: gods, king, fish, sword, himself, sire, commander, island, head, gun\n",
      "12+: emma, clara, margaret, nursery, chairs, kent, poor, miss, awful, nursing\n",
      "13-: forever, fear, hate, love, trying, past, dark, thoughts, hills, myself\n",
      "13+: gave, remarked, guests, invited, piece, egg, pipe, sultan, explained, put\n",
      "14-: creature, women, laugh, creatures, thing, beast, else, cry, dogs, terrible\n",
      "14+: map, pen, envelope, document, finished, signed, cemetery, message, folded, chi\n",
      "15-: paul, captain, voyage, lewis, laughed, philip, sky, clark, storm, america\n",
      "15+: bit, keys, garden, tree, adam, sitting, cousin, conversation, listening, yard\n",
      "16-: marry, anger, wretched, eldest, marriage, earn, neighbours, daughter, merchant, wife\n",
      "16+: planet, game, space, play, computer, onto, human, right, pilot, sure\n",
      "17-: knew, far, dogs, till, lay, save, pool, touch, saw, eric\n",
      "17+: consul, silent, serious, hat, professor, wearing, telling, tried, lawyer, quiet\n",
      "18-: pan, fire, fight, kitchen, pain, kill, rushed, answered, wounds, stove\n",
      "18+: business, leo, looks, jean, funeral, town, architecture, features, citizen, figure\n",
      "19-: news, doctor, hospital, war, death, colonel, arrived, dr., president, nurse\n",
      "19+: mirror, smooth, naked, lovers, painted, brush, paint, fur, strings, lean\n",
      "20-: wife, husband, beside, looking, woman, maria, toward, mistress, came, hut\n",
      "20+: start, play, shake, ball, exercises, games, plays, grade, arithmetic, players\n",
      "21-: rue, inc., copyright, don, publisher, income, ltd, edition, rent, reserved\n",
      "21+: tent, mouth, tongue, throat, back, again, down, shoulders, legs, beside\n",
      "22-: drink, kate, wrong, mind, bar, stopped, waiting, felt, dark, sorry\n",
      "22+: tu, moses, sisters, flour, silk, marie, japanese, cook, yours, gold\n",
      "23-: moved, alice, norman, david, edward, handed, looking, santa, james, jerome\n",
      "23+: lose, hate, prisoners, friends, insane, orders, happen, madam, arrest, rage\n",
      "24-: rome, bells, princes, ships, egypt, sailed, wedding, sang, milan, leo\n",
      "24+: body, head, trying, mouth, paper, dog, animal, mrs., feel, someone\n",
      "25-: tales, tale, 1897, stevenson, 1908, 1914, stories, reader, 1878, story\n",
      "25+: seat, happy, smiling, smiled, laura, put, looked, smile, drove, everyone\n",
      "26-: 'em, bar, hundred, drunk, 're, bottle, 've, black, fellow, got\n",
      "26+: thoughts, hoped, fears, fear, discover, dread, wished, hopes, presence, communicate\n",
      "27-: boy, caught, tall, ran, once, jim, behind, summer, narrow, path\n",
      "27+: meant, cup, sense, sins, sin, max, peter, van, sure, ross\n",
      "28-: patience, morality, succeed, vessel, difficult, ship, wish, begin, responsibility, myself\n",
      "28+: apartment, night, window, came, hung, red, went, walked, sue, room\n",
      "29-: stood, silence, big, tall, gun, looked, ai, front, tone, voice\n",
      "29+: spent, early, nights, hours, evening, later, theatre, afternoon, adventures, late\n",
      "30-: kate, tissues, rested, bowl, raymond, needle, ceiling, mann, abdomen, ana\n",
      "30+: never, country, train, saw, town, ever, thought, nothing, station, horse\n",
      "31-: k, v, w, theorem, receiver, u, catherine, r, cable, corresponds\n",
      "31+: lived, age, born, old, died, grandfather, children, childhood, became, live\n",
      "32-: tone, expression, voice, reply, speak, answered, love, smiled, added, replied\n",
      "32+: dirt, cars, packed, railroad, roads, farmers, fence, places, houses, beans\n",
      "33-: moment, corner, hour, officer, passed, o'clock, lieutenant, restaurant, air, dinner\n",
      "33+: anybody, nobody, word, taught, cattle, luther, shame, folks, born, sin\n",
      "34-: walked, margaret, department, newspaper, papers, singapore, diary, japanese, walking, airport\n",
      "34+: heaven, sake, earth, light, above, moon, spirit, shining, move, yourself\n",
      "35-: mrs, ah, madam, bless, cried, mr, bloody, 'er, pray, miss\n",
      "35+: worked, thousand, talked, spent, around, finally, hundred, five, forehead, months\n",
      "36-: hair, tall, sit, wings, waiting, novel, sitting, next, watching, evening\n",
      "36+: enough, hard, honest, need, sell, devil, sake, owed, price, shares\n",
      "37-: caesar, character, moral, known, natural, killed, action, proved, civilization, common\n",
      "37+: listen, wait, n't, call, hear, waiting, hurry, please, doctor, collar\n",
      "38-: ca, really, ok, want, maybe, just, wo, getting, nice, right\n",
      "38+: xiii, xii, xviii, xi, xxii, chapter, xix, ere, vi., xiv\n",
      "39-: again, silence, faint, left, appeared, somewhere, perhaps, hay, opposite, else\n",
      "39+: alan, ass, spanish, keep, looks, carl, bad, denmark, stuff, shakespeare\n",
      "40-: dialogue, reader, profound, arm, narrative, attributes, snow, events, characters, role\n",
      "40+: half, took, ten, went, waited, let, back, came, ring, picked\n",
      "41-: church, altar, shook, priest, priests, temple, catholic, bishop, behind, jesus\n",
      "41+: walter, arthur, mary, fred, specimens, laboratory, th, von, bath, ann\n",
      "42-: less, ready, easy, n’t, joe, feel, satisfaction, ’, perfect, easily\n",
      "42+: tales, dead, dying, war, queen, tale, kings, name, king, translated\n",
      "43-: sidney, richard, martha, jane, bee, art, author, prose, poems, frances\n",
      "43+: roof, boots, clothes, night, heavy, tomorrow, town, o'clock, sleep, tent\n",
      "44-: daughter, mother, aunt, sister, child, family, father, marriage, married, husband\n",
      "44+: level, line, moving, engines, direction, speed, signal, compass, opening, clear\n",
      "45-: girls, beach, talk, boys, old, angel, sea, home, friends, talking\n",
      "45+: knees, brain, thrust, shoulder, lamp, drew, chester, stephen, david, duncan\n",
      "46-: ben, bed, pulled, sleep, wake, mirror, slept, tried, train, fin\n",
      "46+: attention, curious, gentleman, rather, added, peasant, intelligent, parliament, masters, older\n",
      "47-: cold, winter, printed, smoke, dan, tobacco, ltd, canada, printing, copyright\n",
      "47+: might, another, happened, seemed, scene, thought, again, seen, heard, watched\n",
      "48-: blood, guards, chest, charged, injuries, body, released, immediately, carried, examined\n",
      "48+: tired, sometimes, suppose, liked, summer, library, supper, books, mrs., mary\n",
      "49-: rope, cabin, yard, running, rail, onto, joe, wet, ray, barn\n",
      "49+: country, write, short, writer, travel, revolution, writing, language, thousand, nation\n"
     ]
    }
   ],
   "source": [
    "generated, _std, _mean = ae_moments(decoder)\n",
    "ztopics = (generated - _mean) / _std\n",
    "\n",
    "vocab_lim = 200000 # Only inspect words at index vocab_lim and above\n",
    "\n",
    "labels = dict()\n",
    "\n",
    "for i in range(0,ztopics.shape[0]):\n",
    "    ind = pd.Series(ztopics[i]).sort_values().index\n",
    "    ind = ind[ind < vocab_lim]\n",
    "    labels[\"%d-\" % i] = \", \".join(token_ref.iloc[ind[-10:]][::-1]['token'].tolist())\n",
    "    labels[\"%d+\" % i] = \", \".join(token_ref.iloc[ind[:10]]['token'].tolist())\n",
    "    print(\"%d-: %s\" % (i, \", \".join(token_ref.iloc[ind[-10:]][::-1]['token'].tolist())))\n",
    "    print(\"%d+: %s\" % (i, \", \".join(token_ref.iloc[ind[:10]]['token'].tolist())))"
   ]
  },
  {
   "cell_type": "markdown",
   "metadata": {},
   "source": [
    "## Generating imaginary documents"
   ]
  },
  {
   "cell_type": "code",
   "execution_count": 172,
   "metadata": {},
   "outputs": [
    {
     "name": "stdout",
     "output_type": "stream",
     "text": [
      "citizen, persistent, perhaps, skins, mile, oriental, receiver, board, ma, neighbor, ta, screen, belonged, exhausted, brand, frederick, injured, gordon, wire, disappointed, marie, piano, wife, rue, neat, tries, abuse, phillips, opera, macmillan, adds, article, finding, disorders, eaten, despite, potatoes, 79, preaching, shapes, authorities, district, julia, immediately, canyon, matthew, shortly, vigorous, weeds, bars, speakers, spot, prolonged, puts, crude, hire, interesting, closing, steam, lasting, brain, machines, surface, heaven, heat, lamb, genuine, describing, discretion, brought, paying, pierce, dish, tasks, weigh, barley, crime, depended, cave, fractions, applicable, opposite, riding, turkey, newspapers, plea, baltimore, thorough, apparent, earl, der, eugene, network, id, client, maintaining, circles, interpreted, linen, farther\n"
     ]
    }
   ],
   "source": [
    "# See what the dimensions are about\n",
    "doc = np.zeros((1,latent_n))\n",
    "doc[0, []] = 1\n",
    "doc[0, [188]] = -1\n",
    "expanded = decoder.predict(doc)[0]\n",
    "ztopics = (expanded-_mean)/_std\n",
    "\n",
    "ind = pd.Series(ztopics).sort_values().index\n",
    "ind = ind[ind < vocab_lim]\n",
    "print(\"%s\" % (\", \".join(token_ref.iloc[ind[:100]]['token'].tolist())))"
   ]
  },
  {
   "cell_type": "markdown",
   "metadata": {},
   "source": [
    "## Generating latent codes for words\n",
    "\n",
    "Focusing on top 5k words."
   ]
  },
  {
   "cell_type": "code",
   "execution_count": 191,
   "metadata": {},
   "outputs": [
    {
     "ename": "ValueError",
     "evalue": "No such layer: input_1",
     "output_type": "error",
     "traceback": [
      "\u001b[0;31m---------------------------------------------------------------------------\u001b[0m",
      "\u001b[0;31mValueError\u001b[0m                                Traceback (most recent call last)",
      "\u001b[0;32m<ipython-input-191-c0444dd3350e>\u001b[0m in \u001b[0;36m<module>\u001b[0;34m\u001b[0m\n\u001b[0;32m----> 1\u001b[0;31m \u001b[0mindim\u001b[0m \u001b[0;34m=\u001b[0m \u001b[0mencoder\u001b[0m\u001b[0;34m.\u001b[0m\u001b[0mget_layer\u001b[0m\u001b[0;34m(\u001b[0m\u001b[0;34m'input_1'\u001b[0m\u001b[0;34m)\u001b[0m\u001b[0;34m.\u001b[0m\u001b[0minput_shape\u001b[0m\u001b[0;34m[\u001b[0m\u001b[0;36m1\u001b[0m\u001b[0;34m]\u001b[0m\u001b[0;34m\u001b[0m\u001b[0m\n\u001b[0m\u001b[1;32m      2\u001b[0m \u001b[0mindocs\u001b[0m \u001b[0;34m=\u001b[0m \u001b[0mnp\u001b[0m\u001b[0;34m.\u001b[0m\u001b[0mzeros\u001b[0m\u001b[0;34m(\u001b[0m\u001b[0;34m(\u001b[0m\u001b[0;36m5000\u001b[0m\u001b[0;34m,\u001b[0m\u001b[0mindim\u001b[0m\u001b[0;34m)\u001b[0m\u001b[0;34m)\u001b[0m\u001b[0;34m\u001b[0m\u001b[0m\n\u001b[1;32m      3\u001b[0m \u001b[0mnp\u001b[0m\u001b[0;34m.\u001b[0m\u001b[0mfill_diagonal\u001b[0m\u001b[0;34m(\u001b[0m\u001b[0mindocs\u001b[0m\u001b[0;34m,\u001b[0m \u001b[0midf\u001b[0m\u001b[0;34m[\u001b[0m\u001b[0;34m:\u001b[0m\u001b[0;36m5000\u001b[0m\u001b[0;34m]\u001b[0m\u001b[0;34m)\u001b[0m\u001b[0;34m\u001b[0m\u001b[0m\n\u001b[1;32m      4\u001b[0m \u001b[0mencoded\u001b[0m \u001b[0;34m=\u001b[0m \u001b[0mencoder\u001b[0m\u001b[0;34m.\u001b[0m\u001b[0mpredict\u001b[0m\u001b[0;34m(\u001b[0m\u001b[0mindocs\u001b[0m\u001b[0;34m)\u001b[0m\u001b[0;34m\u001b[0m\u001b[0m\n",
      "\u001b[0;32m/usr/local/lib/python3.5/dist-packages/keras/engine/network.py\u001b[0m in \u001b[0;36mget_layer\u001b[0;34m(self, name, index)\u001b[0m\n\u001b[1;32m    362\u001b[0m                 \u001b[0;32mreturn\u001b[0m \u001b[0mlayer\u001b[0m\u001b[0;34m\u001b[0m\u001b[0m\n\u001b[1;32m    363\u001b[0m \u001b[0;34m\u001b[0m\u001b[0m\n\u001b[0;32m--> 364\u001b[0;31m         \u001b[0;32mraise\u001b[0m \u001b[0mValueError\u001b[0m\u001b[0;34m(\u001b[0m\u001b[0;34m'No such layer: '\u001b[0m \u001b[0;34m+\u001b[0m \u001b[0mname\u001b[0m\u001b[0;34m)\u001b[0m\u001b[0;34m\u001b[0m\u001b[0m\n\u001b[0m\u001b[1;32m    365\u001b[0m \u001b[0;34m\u001b[0m\u001b[0m\n\u001b[1;32m    366\u001b[0m     \u001b[0;34m@\u001b[0m\u001b[0mproperty\u001b[0m\u001b[0;34m\u001b[0m\u001b[0m\n",
      "\u001b[0;31mValueError\u001b[0m: No such layer: input_1"
     ]
    }
   ],
   "source": [
    "indim = encoder.get_layer('input_1').input_shape[1]\n",
    "indocs = np.zeros((5000,indim))\n",
    "np.fill_diagonal(indocs, idf[:5000])\n",
    "encoded = encoder.predict(indocs)"
   ]
  },
  {
   "cell_type": "code",
   "execution_count": 31,
   "metadata": {},
   "outputs": [],
   "source": [
    "np.savetxt(\"export/worddata.csv\", encoded, delimiter=\"\\t\")\n",
    "token_ref[:5000].to_csv('export/wordmeta.csv', sep='\\t', header=False, index=False)"
   ]
  },
  {
   "cell_type": "markdown",
   "metadata": {},
   "source": [
    "## Getting topics about a document"
   ]
  },
  {
   "cell_type": "code",
   "execution_count": 1,
   "metadata": {},
   "outputs": [],
   "source": [
    "import pandas as pd"
   ]
  },
  {
   "cell_type": "code",
   "execution_count": 56,
   "metadata": {},
   "outputs": [
    {
     "name": "stderr",
     "output_type": "stream",
     "text": [
      "/home/organisciak_gmail_com/.local/lib/python3.5/site-packages/IPython/core/interactiveshell.py:3018: DtypeWarning: Columns (20) have mixed types. Specify dtype option on import or set low_memory=False.\n",
      "  interactivity=interactivity, compiler=compiler, result=result)\n"
     ]
    }
   ],
   "source": [
    "meta = pd.read_csv('data/literature/ficmeta.csv')"
   ]
  },
  {
   "cell_type": "code",
   "execution_count": 143,
   "metadata": {},
   "outputs": [
    {
     "data": {
      "text/html": [
       "<div>\n",
       "<style scoped>\n",
       "    .dataframe tbody tr th:only-of-type {\n",
       "        vertical-align: middle;\n",
       "    }\n",
       "\n",
       "    .dataframe tbody tr th {\n",
       "        vertical-align: top;\n",
       "    }\n",
       "\n",
       "    .dataframe thead th {\n",
       "        text-align: right;\n",
       "    }\n",
       "</style>\n",
       "<table border=\"1\" class=\"dataframe\">\n",
       "  <thead>\n",
       "    <tr style=\"text-align: right;\">\n",
       "      <th></th>\n",
       "      <th>docid</th>\n",
       "      <th>title</th>\n",
       "    </tr>\n",
       "  </thead>\n",
       "  <tbody>\n",
       "    <tr>\n",
       "      <th>62931</th>\n",
       "      <td>mdp.49015002568781</td>\n",
       "      <td>The fellowship of the ring : | Being the first...</td>\n",
       "    </tr>\n",
       "    <tr>\n",
       "      <th>76058</th>\n",
       "      <td>uc1.32106015420547</td>\n",
       "      <td>The fellowship of the ring : | being the first...</td>\n",
       "    </tr>\n",
       "  </tbody>\n",
       "</table>\n",
       "</div>"
      ],
      "text/plain": [
       "                    docid                                              title\n",
       "62931  mdp.49015002568781  The fellowship of the ring : | Being the first...\n",
       "76058  uc1.32106015420547  The fellowship of the ring : | being the first..."
      ]
     },
     "execution_count": 143,
     "metadata": {},
     "output_type": "execute_result"
    }
   ],
   "source": [
    "meta[meta.author.fillna('').str.contains('Tolkie') & meta.title.str.contains('ellowship')][['docid', 'title']]"
   ]
  },
  {
   "cell_type": "code",
   "execution_count": 174,
   "metadata": {},
   "outputs": [],
   "source": [
    "from htrc_features import FeatureReader, utils\n",
    "# 1984, Brave New World, Fellowship of the Ring\n",
    "utils.download_file(['mdp.39015060000752', 'mdp.39015002231440', 'mdp.49015002568781'])\n",
    "fr = FeatureReader(['mdp.39015060000752.json.bz2', 'mdp.39015002231440.json.bz2', 'mdp.49015002568781.json.bz2'])"
   ]
  },
  {
   "cell_type": "code",
   "execution_count": 192,
   "metadata": {},
   "outputs": [
    {
     "data": {
      "text/plain": [
       "((3, 10000), (3, 50))"
      ]
     },
     "execution_count": 192,
     "metadata": {},
     "output_type": "execute_result"
    }
   ],
   "source": [
    "def vol2vec(vol, idf=idf):\n",
    "    tl = (vol.tokenlist(pos=False, case=False).reset_index()[['lowercase', 'count']]\n",
    "             .rename(columns={'lowercase':'token'})\n",
    "             .groupby('token', as_index=False)[['count']].sum()\n",
    "         )\n",
    "    counts = pd.merge(tl, token_ref[:args.dims[0]].reset_index())[['index', 'count']].sort_values('index')\n",
    "    #counts = counts[(counts['index'] < args.dims[0]+200) & (counts['index'] > 200)]\n",
    "\n",
    "    doc = np.zeros((1,args.dims[0]))\n",
    "    doc[0, counts['index'].values] = counts['count'].values\n",
    "    doc = doc * idf[:args.dims[0]]\n",
    "    return doc\n",
    "\n",
    "docs = np.vstack([vol2vec(vol) for vol in fr.volumes()])\n",
    "ldocs = encoder.predict(docs)\n",
    "\n",
    "docs.shape, ldocs.shape"
   ]
  },
  {
   "cell_type": "code",
   "execution_count": 198,
   "metadata": {},
   "outputs": [
    {
     "data": {
      "text/plain": [
       "23    0.234187\n",
       "8     0.144453\n",
       "17    0.139016\n",
       "2     0.133799\n",
       "35    0.128047\n",
       "27    0.127119\n",
       "20    0.113219\n",
       "22    0.109049\n",
       "24    0.105485\n",
       "5     0.103404\n",
       "dtype: float32"
      ]
     },
     "execution_count": 198,
     "metadata": {},
     "output_type": "execute_result"
    }
   ],
   "source": [
    "ldocprobs = (ldocs.T/ldocs.sum(axis=1)).T\n",
    "pd.Series(ldocprobs[2] - ldocprobs[0]).sort_values(ascending=False).head(10)"
   ]
  },
  {
   "cell_type": "code",
   "execution_count": 199,
   "metadata": {},
   "outputs": [
    {
     "data": {
      "text/plain": [
       "'lose, hate, prisoners, friends, insane, orders, happen, madam, arrest, rage'"
      ]
     },
     "execution_count": 199,
     "metadata": {},
     "output_type": "execute_result"
    }
   ],
   "source": [
    "labels['23+']"
   ]
  },
  {
   "cell_type": "code",
   "execution_count": 200,
   "metadata": {},
   "outputs": [
    {
     "name": "stdout",
     "output_type": "stream",
     "text": [
      "easy, lead, carrying, carry, settled, drawing, breaking, fresh, ways, busy, spread, finding, follow, setting, drop, lower, hoped, calling, safe, gathering, keen, curious, leading, gather, somewhat, approach, driven, slow, gentle, anywhere, meet, nowhere, reply, settle, joined, ours, escaped, filling, gathered, field, pointing, disturbed, stopping, kindly, rapidly, urged, hang, anxious, easier, seeking, ease, peaceful, loose, rising, main, wasted, casting, finished, sharply, early, reaching, june, quarter, hide, spirits, lie, steadily, wandering, broad, directions, fair, nearest, chance, dozen, idle, pleased, post, planted, join, dry, travel, fancy, bold, direction, harm, wider, meantime, plainly, approaching, rested, stirred, splendid, guide, sought, pleasant, approached, earnest, distant, peace, wise\n"
     ]
    }
   ],
   "source": [
    "ztopics = (decoder.predict(ldocs) - _mean) / _std\n",
    "compare = pd.Series(ztopics[2] - ztopics[0]).sort_values(ascending=False)\n",
    "print(\"%s\" % (\", \".join(token_ref.iloc[compare.index[:100]]['token'].tolist())))"
   ]
  },
  {
   "cell_type": "code",
   "execution_count": 201,
   "metadata": {},
   "outputs": [
    {
     "name": "stdout",
     "output_type": "stream",
     "text": [
      "bringing, easy, lack, suggested, due, lead, added, carrying, settled, fresh, carry, prepared, busy, unless, spread, share, ways, explained, drawing, offered, private, follow, hoped, breaking, needs, setting, showing, finding, safe, chose, proper, chosen, lower, calling, choice, drop, heavily, saved, considered, expect, earlier, avoid, helped, firmly, refused, leading, allow, continue, keen, meet, slow, rule, paid, gathering, assured, curious, arranged, agreed, raise, somewhat, gentle, add, paying, plan, accepted, early, comment, fourth, reply, elsewhere, various, relief, properly, cutting, recently, approach, driven, throwing, works, satisfaction, offering, shortly, fill, repeated, returning, field, happily, business, score, rules, main, determined, exercise, pronounced, admitted, anywhere, announced, practically, placed, useful\n"
     ]
    }
   ],
   "source": [
    "ztopics = (decoder.predict(ldocs) - _mean) / _std\n",
    "ind = pd.Series(ztopics[0]).sort_values().index\n",
    "ind = ind[ind < vocab_lim]\n",
    "print(\"%s\" % (\", \".join(token_ref.iloc[ind[:100]]['token'].tolist())))"
   ]
  },
  {
   "cell_type": "code",
   "execution_count": 205,
   "metadata": {},
   "outputs": [
    {
     "data": {
      "text/html": [
       "<div>\n",
       "<style scoped>\n",
       "    .dataframe tbody tr th:only-of-type {\n",
       "        vertical-align: middle;\n",
       "    }\n",
       "\n",
       "    .dataframe tbody tr th {\n",
       "        vertical-align: top;\n",
       "    }\n",
       "\n",
       "    .dataframe thead th {\n",
       "        text-align: right;\n",
       "    }\n",
       "</style>\n",
       "<table border=\"1\" class=\"dataframe\">\n",
       "  <thead>\n",
       "    <tr style=\"text-align: right;\">\n",
       "      <th></th>\n",
       "      <th>dim</th>\n",
       "      <th>weight</th>\n",
       "      <th>abs_weight</th>\n",
       "      <th>sign</th>\n",
       "      <th>terms</th>\n",
       "    </tr>\n",
       "  </thead>\n",
       "  <tbody>\n",
       "    <tr>\n",
       "      <th>48</th>\n",
       "      <td>48</td>\n",
       "      <td>694.156433</td>\n",
       "      <td>694.156433</td>\n",
       "      <td>+</td>\n",
       "      <td>tired, sometimes, suppose, liked, summer, libr...</td>\n",
       "    </tr>\n",
       "    <tr>\n",
       "      <th>10</th>\n",
       "      <td>10</td>\n",
       "      <td>610.782410</td>\n",
       "      <td>610.782410</td>\n",
       "      <td>+</td>\n",
       "      <td>question, party, member, parties, allen, acqua...</td>\n",
       "    </tr>\n",
       "    <tr>\n",
       "      <th>39</th>\n",
       "      <td>39</td>\n",
       "      <td>592.815613</td>\n",
       "      <td>592.815613</td>\n",
       "      <td>+</td>\n",
       "      <td>alan, ass, spanish, keep, looks, carl, bad, de...</td>\n",
       "    </tr>\n",
       "    <tr>\n",
       "      <th>28</th>\n",
       "      <td>28</td>\n",
       "      <td>510.468964</td>\n",
       "      <td>510.468964</td>\n",
       "      <td>+</td>\n",
       "      <td>apartment, night, window, came, hung, red, wen...</td>\n",
       "    </tr>\n",
       "    <tr>\n",
       "      <th>31</th>\n",
       "      <td>31</td>\n",
       "      <td>-491.142822</td>\n",
       "      <td>491.142822</td>\n",
       "      <td>-</td>\n",
       "      <td>k, v, w, theorem, receiver, u, catherine, r, c...</td>\n",
       "    </tr>\n",
       "  </tbody>\n",
       "</table>\n",
       "</div>"
      ],
      "text/plain": [
       "    dim      weight  abs_weight sign  \\\n",
       "48   48  694.156433  694.156433    +   \n",
       "10   10  610.782410  610.782410    +   \n",
       "39   39  592.815613  592.815613    +   \n",
       "28   28  510.468964  510.468964    +   \n",
       "31   31 -491.142822  491.142822    -   \n",
       "\n",
       "                                                terms  \n",
       "48  tired, sometimes, suppose, liked, summer, libr...  \n",
       "10  question, party, member, parties, allen, acqua...  \n",
       "39  alan, ass, spanish, keep, looks, carl, bad, de...  \n",
       "28  apartment, night, window, came, hung, red, wen...  \n",
       "31  k, v, w, theorem, receiver, u, catherine, r, c...  "
      ]
     },
     "execution_count": 205,
     "metadata": {},
     "output_type": "execute_result"
    }
   ],
   "source": [
    "df = pd.DataFrame(ldocs[0], columns=['weight'])\n",
    "df['abs_weight'] = df.weight.abs()\n",
    "df['sign'] = df.weight.apply(lambda x: \"+\" if x >= 0 else \"-\")\n",
    "df = df.reset_index().rename(columns={'index':'dim'})\n",
    "df = df.sort_values('abs_weight', ascending=False)\n",
    "df['terms'] = (df.dim.astype('str') + df.sign).apply(lambda x: labels[x])\n",
    "df.head()"
   ]
  },
  {
   "cell_type": "code",
   "execution_count": 206,
   "metadata": {},
   "outputs": [
    {
     "data": {
      "text/html": [
       "<div>\n",
       "<style scoped>\n",
       "    .dataframe tbody tr th:only-of-type {\n",
       "        vertical-align: middle;\n",
       "    }\n",
       "\n",
       "    .dataframe tbody tr th {\n",
       "        vertical-align: top;\n",
       "    }\n",
       "\n",
       "    .dataframe thead th {\n",
       "        text-align: right;\n",
       "    }\n",
       "</style>\n",
       "<table border=\"1\" class=\"dataframe\">\n",
       "  <thead>\n",
       "    <tr style=\"text-align: right;\">\n",
       "      <th></th>\n",
       "      <th>dim</th>\n",
       "      <th>weight</th>\n",
       "      <th>abs_weight</th>\n",
       "      <th>sign</th>\n",
       "      <th>terms</th>\n",
       "    </tr>\n",
       "  </thead>\n",
       "  <tbody>\n",
       "    <tr>\n",
       "      <th>43</th>\n",
       "      <td>43</td>\n",
       "      <td>53.296806</td>\n",
       "      <td>53.296806</td>\n",
       "      <td>+</td>\n",
       "      <td>roof, boots, clothes, night, heavy, tomorrow, ...</td>\n",
       "    </tr>\n",
       "    <tr>\n",
       "      <th>22</th>\n",
       "      <td>22</td>\n",
       "      <td>27.277739</td>\n",
       "      <td>27.277739</td>\n",
       "      <td>+</td>\n",
       "      <td>tu, moses, sisters, flour, silk, marie, japane...</td>\n",
       "    </tr>\n",
       "    <tr>\n",
       "      <th>16</th>\n",
       "      <td>16</td>\n",
       "      <td>26.268019</td>\n",
       "      <td>26.268019</td>\n",
       "      <td>+</td>\n",
       "      <td>planet, game, space, play, computer, onto, hum...</td>\n",
       "    </tr>\n",
       "    <tr>\n",
       "      <th>23</th>\n",
       "      <td>23</td>\n",
       "      <td>-23.351639</td>\n",
       "      <td>23.351639</td>\n",
       "      <td>-</td>\n",
       "      <td>moved, alice, norman, david, edward, handed, l...</td>\n",
       "    </tr>\n",
       "    <tr>\n",
       "      <th>2</th>\n",
       "      <td>2</td>\n",
       "      <td>9.011530</td>\n",
       "      <td>9.011530</td>\n",
       "      <td>+</td>\n",
       "      <td>tim, murder, bloody, killed, lying, murphy, ki...</td>\n",
       "    </tr>\n",
       "  </tbody>\n",
       "</table>\n",
       "</div>"
      ],
      "text/plain": [
       "    dim     weight  abs_weight sign  \\\n",
       "43   43  53.296806   53.296806    +   \n",
       "22   22  27.277739   27.277739    +   \n",
       "16   16  26.268019   26.268019    +   \n",
       "23   23 -23.351639   23.351639    -   \n",
       "2     2   9.011530    9.011530    +   \n",
       "\n",
       "                                                terms  \n",
       "43  roof, boots, clothes, night, heavy, tomorrow, ...  \n",
       "22  tu, moses, sisters, flour, silk, marie, japane...  \n",
       "16  planet, game, space, play, computer, onto, hum...  \n",
       "23  moved, alice, norman, david, edward, handed, l...  \n",
       "2   tim, murder, bloody, killed, lying, murphy, ki...  "
      ]
     },
     "execution_count": 206,
     "metadata": {},
     "output_type": "execute_result"
    }
   ],
   "source": [
    "df.tail()"
   ]
  },
  {
   "cell_type": "code",
   "execution_count": 207,
   "metadata": {},
   "outputs": [
    {
     "ename": "ValueError",
     "evalue": "cannot reshape array of size 50 into shape (1,200)",
     "output_type": "error",
     "traceback": [
      "\u001b[0;31m---------------------------------------------------------------------------\u001b[0m",
      "\u001b[0;31mValueError\u001b[0m                                Traceback (most recent call last)",
      "\u001b[0;32m<ipython-input-207-da5ea9da3322>\u001b[0m in \u001b[0;36m<module>\u001b[0;34m\u001b[0m\n\u001b[1;32m      1\u001b[0m \u001b[0mfakedoc\u001b[0m \u001b[0;34m=\u001b[0m \u001b[0mldocs\u001b[0m\u001b[0;34m[\u001b[0m\u001b[0;36m2\u001b[0m\u001b[0;34m]\u001b[0m \u001b[0;34m-\u001b[0m \u001b[0mldocs\u001b[0m\u001b[0;34m[\u001b[0m\u001b[0;36m0\u001b[0m\u001b[0;34m]\u001b[0m\u001b[0;34m\u001b[0m\u001b[0m\n\u001b[0;32m----> 2\u001b[0;31m \u001b[0mztopics\u001b[0m \u001b[0;34m=\u001b[0m \u001b[0;34m(\u001b[0m\u001b[0mdecoder\u001b[0m\u001b[0;34m.\u001b[0m\u001b[0mpredict\u001b[0m\u001b[0;34m(\u001b[0m\u001b[0mfakedoc\u001b[0m\u001b[0;34m.\u001b[0m\u001b[0mreshape\u001b[0m\u001b[0;34m(\u001b[0m\u001b[0;36m1\u001b[0m\u001b[0;34m,\u001b[0m \u001b[0;36m200\u001b[0m\u001b[0;34m)\u001b[0m\u001b[0;34m)\u001b[0m \u001b[0;34m-\u001b[0m \u001b[0m_mean\u001b[0m\u001b[0;34m)\u001b[0m \u001b[0;34m/\u001b[0m \u001b[0m_std\u001b[0m\u001b[0;34m\u001b[0m\u001b[0m\n\u001b[0m\u001b[1;32m      3\u001b[0m \u001b[0mcompare\u001b[0m \u001b[0;34m=\u001b[0m \u001b[0mpd\u001b[0m\u001b[0;34m.\u001b[0m\u001b[0mSeries\u001b[0m\u001b[0;34m(\u001b[0m\u001b[0mztopics\u001b[0m\u001b[0;34m[\u001b[0m\u001b[0;36m0\u001b[0m\u001b[0;34m]\u001b[0m\u001b[0;34m)\u001b[0m\u001b[0;34m.\u001b[0m\u001b[0msort_values\u001b[0m\u001b[0;34m(\u001b[0m\u001b[0mascending\u001b[0m\u001b[0;34m=\u001b[0m\u001b[0;32mFalse\u001b[0m\u001b[0;34m)\u001b[0m\u001b[0;34m\u001b[0m\u001b[0m\n\u001b[1;32m      4\u001b[0m \u001b[0mprint\u001b[0m\u001b[0;34m(\u001b[0m\u001b[0;34m\"%s\"\u001b[0m \u001b[0;34m%\u001b[0m \u001b[0;34m(\u001b[0m\u001b[0;34m\", \"\u001b[0m\u001b[0;34m.\u001b[0m\u001b[0mjoin\u001b[0m\u001b[0;34m(\u001b[0m\u001b[0mtoken_ref\u001b[0m\u001b[0;34m.\u001b[0m\u001b[0miloc\u001b[0m\u001b[0;34m[\u001b[0m\u001b[0mcompare\u001b[0m\u001b[0;34m.\u001b[0m\u001b[0mindex\u001b[0m\u001b[0;34m[\u001b[0m\u001b[0;34m:\u001b[0m\u001b[0;36m100\u001b[0m\u001b[0;34m]\u001b[0m\u001b[0;34m]\u001b[0m\u001b[0;34m[\u001b[0m\u001b[0;34m'token'\u001b[0m\u001b[0;34m]\u001b[0m\u001b[0;34m.\u001b[0m\u001b[0mtolist\u001b[0m\u001b[0;34m(\u001b[0m\u001b[0;34m)\u001b[0m\u001b[0;34m)\u001b[0m\u001b[0;34m)\u001b[0m\u001b[0;34m)\u001b[0m\u001b[0;34m\u001b[0m\u001b[0m\n",
      "\u001b[0;31mValueError\u001b[0m: cannot reshape array of size 50 into shape (1,200)"
     ]
    }
   ],
   "source": [
    "fakedoc = ldocs[2] - ldocs[0]\n",
    "ztopics = (decoder.predict(fakedoc.reshape(1, 200)) - _mean) / _std\n",
    "compare = pd.Series(ztopics[0]).sort_values(ascending=False)\n",
    "print(\"%s\" % (\", \".join(token_ref.iloc[compare.index[:100]]['token'].tolist())))"
   ]
  },
  {
   "cell_type": "code",
   "execution_count": 208,
   "metadata": {},
   "outputs": [
    {
     "name": "stdout",
     "output_type": "stream",
     "text": [
      "48+: tired, sometimes, suppose, liked, summer, library, supper, books, mrs., mary\n",
      "10+: question, party, member, parties, allen, acquainted, county, ask, answer, thompson\n",
      "39+: alan, ass, spanish, keep, looks, carl, bad, denmark, stuff, shakespeare\n",
      "28+: apartment, night, window, came, hung, red, went, walked, sue, room\n",
      "31-: k, v, w, theorem, receiver, u, catherine, r, cable, corresponds\n",
      "44-: daughter, mother, aunt, sister, child, family, father, marriage, married, husband\n",
      "0+: islands, miles, rock, luck, coast, mile, trunk, island, bay, pacific\n",
      "47-: cold, winter, printed, smoke, dan, tobacco, ltd, canada, printing, copyright\n",
      "49-: rope, cabin, yard, running, rail, onto, joe, wet, ray, barn\n",
      "25+: seat, happy, smiling, smiled, laura, put, looked, smile, drove, everyone\n",
      "4-: morning, driver, picked, pocket, next, crew, night, george, rain, cards\n",
      "21-: rue, inc., copyright, don, publisher, income, ltd, edition, rent, reserved\n",
      "8+: navy, background, edward, routine, henry, america, morgan, press, japanese, landing\n",
      "13+: gave, remarked, guests, invited, piece, egg, pipe, sultan, explained, put\n",
      "26-: 'em, bar, hundred, drunk, 're, bottle, 've, black, fellow, got\n",
      "7+: became, toward, forward, struggle, slowly, urged, victory, defeat, release, increased\n",
      "42+: tales, dead, dying, war, queen, tale, kings, name, king, translated\n",
      "5-: bird, feathers, birds, wings, wi, an', fur, ye, season, set\n",
      "38+: xiii, xii, xviii, xi, xxii, chapter, xix, ere, vi., xiv\n",
      "33+: anybody, nobody, word, taught, cattle, luther, shame, folks, born, sin\n"
     ]
    }
   ],
   "source": [
    "for i, row in df.head(20).iterrows():\n",
    "    vocab_lim = 10000 # Only inspect words at index vocab_lim and above\n",
    "\n",
    "    ind = pd.Series(ztopics[row['dim']]).sort_values().index\n",
    "    if row['sign'] == '-':\n",
    "        ind = ind[::-1]\n",
    "    ind = ind[ind < vocab_lim]\n",
    "    print(\"%d%s: %s\" % (row['dim'], row['sign'], \", \".join(token_ref.iloc[ind[:10]]['token'].tolist())))"
   ]
  },
  {
   "cell_type": "code",
   "execution_count": 165,
   "metadata": {},
   "outputs": [
    {
     "name": "stdout",
     "output_type": "stream",
     "text": [
      "courtesy, unknown, supplied, permission, contents, transferred, source, converted, fitting, distributed, plot, modified, arrangements, counter, combined, collecting, remote, complete, introduced, collect, replaced, ,1, minor, representing, prompt, regarding, preparing, newly, refers, specially, obtaining, counting, retained, confirmed, examining, '', maintained, concerning, grounds, aid, enclosed, hi, confirm, demonstration, consisting, transmitted, brief, expanded, rank, recommended, adding, preference, io, returns, 5000, introducing, fill, uniform, originally, checked, pan, promising, transmit, addition, temporary, suitable, trace, *', planned, exclusive, replace, successfully, details, highly, conjunction, tne, contributed, designated, convert, separation, reserved, exclusively, ninth, inter, supplying, reliable, em, chambers, excluding, investigate, prepare, included, absence, consisted, prepared, fitted, formerly, affecting, 'a, ment\n"
     ]
    }
   ],
   "source": [
    "expanded = decoder.predict(ldoc)[0]\n",
    "z = (expanded - means) / stddev\n",
    "\n",
    "ind = pd.Series(z).sort_values().index\n",
    "ind = ind[ind < vocab_lim]\n",
    "print(\"%s\" % (\", \".join(token_ref.iloc[ind[:100]]['token'].tolist())))"
   ]
  },
  {
   "cell_type": "code",
   "execution_count": 35,
   "metadata": {},
   "outputs": [
    {
     "data": {
      "text/plain": [
       "<matplotlib.axes._subplots.AxesSubplot at 0x7f923c64b5f8>"
      ]
     },
     "execution_count": 35,
     "metadata": {},
     "output_type": "execute_result"
    },
    {
     "data": {
      "image/png": "[encoded data removed]",
      "text/plain": [
       "<matplotlib.figure.Figure at 0x7f926816d630>"
      ]
     },
     "metadata": {},
     "output_type": "display_data"
    }
   ],
   "source": [
    "import json\n",
    "%matplotlib inline\n",
    "with open('logs/L0.0000100-H2100-G1000-b512-l200-N24000-E100-v202498-t100000-oAdam-SCross-entropy-idf-log.json', mode='r') as f:\n",
    "    lines = f.read().split('\\n')\n",
    "last_log = json.loads(lines[-1])\n",
    "pd.Series(last_log['history']['val_loss'][10:]).plot()"
   ]
  },
  {
   "cell_type": "code",
   "execution_count": null,
   "metadata": {},
   "outputs": [],
   "source": []
  }
 ],
 "metadata": {
  "kernelspec": {
   "display_name": "Python 3",
   "language": "python",
   "name": "python3"
  },
  "language_info": {
   "codemirror_mode": {
    "name": "ipython",
    "version": 3
   },
   "file_extension": ".py",
   "mimetype": "text/x-python",
   "name": "python",
   "nbconvert_exporter": "python",
   "pygments_lexer": "ipython3",
   "version": "3.5.3"
  }
 },
 "nbformat": 4,
 "nbformat_minor": 2
}
