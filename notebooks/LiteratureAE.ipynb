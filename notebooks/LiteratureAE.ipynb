{
 "cells": [
  {
   "cell_type": "markdown",
   "metadata": {},
   "source": [
    "## Literature Example"
   ]
  },
  {
   "cell_type": "code",
   "execution_count": 1,
   "metadata": {},
   "outputs": [
    {
     "name": "stderr",
     "output_type": "stream",
     "text": [
      "/usr/lib/python3/dist-packages/h5py/__init__.py:34: FutureWarning: Conversion of the second argument of issubdtype from `float` to `np.floating` is deprecated. In future, it will be treated as `np.float64 == np.dtype(float).type`.\n",
      "  from ._conv import register_converters as _register_converters\n"
     ]
    }
   ],
   "source": [
    "import tensorflow as tf\n",
    "sess = tf.InteractiveSession(config=tf.ConfigProto(log_device_placement=True,\n",
    "                                                   allow_soft_placement=True))"
   ]
  },
  {
   "cell_type": "code",
   "execution_count": null,
   "metadata": {},
   "outputs": [
    {
     "name": "stdout",
     "output_type": "stream",
     "text": [
      "Running with params L0.0000500-D10000_2000_50-b256-N20000-E500-l500.0-a1.0-v202498-kMMD-idf\n",
      "Train on 256 samples, validate on 1024 samples\n",
      "Epoch 1/40\n",
      "500/500 [==============================] - 53s 107ms/step - loss: 1036.1359 - val_loss: 628.3461\n",
      "Epoch 2/40\n",
      "500/500 [==============================] - 50s 101ms/step - loss: 390.8673 - val_loss: 320.9091\n",
      "Epoch 3/40\n",
      "500/500 [==============================] - 51s 101ms/step - loss: 132.2744 - val_loss: 149.1497\n",
      "Epoch 4/40\n",
      "500/500 [==============================] - 51s 101ms/step - loss: -63.4475 - val_loss: 7.4642\n",
      "Epoch 5/40\n",
      "500/500 [==============================] - 51s 102ms/step - loss: -201.0696 - val_loss: -115.8018\n",
      "Epoch 6/40\n",
      "500/500 [==============================] - 51s 101ms/step - loss: -309.6270 - val_loss: -217.0966\n",
      "Epoch 7/40\n",
      "500/500 [==============================] - 51s 101ms/step - loss: -392.1255 - val_loss: -303.1098\n",
      "Epoch 8/40\n",
      "500/500 [==============================] - 51s 101ms/step - loss: -473.3958 - val_loss: -374.8171\n",
      "Epoch 9/40\n",
      "500/500 [==============================] - 51s 101ms/step - loss: -553.4980 - val_loss: -424.2378\n",
      "Epoch 10/40\n",
      "500/500 [==============================] - 51s 101ms/step - loss: -594.9960 - val_loss: -468.2640\n",
      "Epoch 11/40\n",
      "500/500 [==============================] - 51s 102ms/step - loss: -663.6243 - val_loss: -507.9801\n",
      "Epoch 12/40\n",
      "500/500 [==============================] - 50s 101ms/step - loss: -704.4642 - val_loss: -537.5090\n",
      "Epoch 13/40\n",
      "500/500 [==============================] - 50s 101ms/step - loss: -703.7254 - val_loss: -564.5329\n",
      "Epoch 14/40\n",
      "500/500 [==============================] - 50s 101ms/step - loss: -716.2419 - val_loss: -587.3711\n",
      "Epoch 15/40\n",
      "500/500 [==============================] - 50s 101ms/step - loss: -761.2088 - val_loss: -606.8134\n",
      "Epoch 16/40\n",
      "500/500 [==============================] - 50s 101ms/step - loss: -770.6279 - val_loss: -621.5750\n",
      "Epoch 17/40\n",
      "500/500 [==============================] - 50s 101ms/step - loss: -806.8323 - val_loss: -635.9764\n",
      "Epoch 18/40\n",
      "500/500 [==============================] - 50s 101ms/step - loss: -834.3276 - val_loss: -648.7715\n",
      "Epoch 19/40\n",
      "500/500 [==============================] - 50s 101ms/step - loss: -841.6695 - val_loss: -662.9230\n",
      "Epoch 20/40\n",
      "500/500 [==============================] - 51s 101ms/step - loss: -826.8236 - val_loss: -677.1920\n",
      "Epoch 21/40\n",
      "500/500 [==============================] - 50s 101ms/step - loss: -843.7275 - val_loss: -687.3888\n",
      "Epoch 22/40\n",
      "500/500 [==============================] - 50s 101ms/step - loss: -862.4394 - val_loss: -696.7950\n",
      "Epoch 23/40\n",
      "500/500 [==============================] - 50s 101ms/step - loss: -865.9753 - val_loss: -705.4282\n",
      "Epoch 24/40\n",
      "500/500 [==============================] - 50s 101ms/step - loss: -900.9635 - val_loss: -716.2302\n",
      "Epoch 25/40\n",
      "500/500 [==============================] - 50s 101ms/step - loss: -922.3381 - val_loss: -722.5201\n",
      "Epoch 26/40\n",
      "500/500 [==============================] - 50s 101ms/step - loss: -908.5751 - val_loss: -732.2867\n",
      "Epoch 27/40\n",
      "500/500 [==============================] - 50s 101ms/step - loss: -888.6949 - val_loss: -739.2471\n",
      "Epoch 28/40\n",
      "500/500 [==============================] - 50s 101ms/step - loss: -919.9986 - val_loss: -744.8116\n",
      "Epoch 29/40\n",
      "500/500 [==============================] - 50s 101ms/step - loss: -924.9998 - val_loss: -751.0812\n",
      "Epoch 30/40\n",
      "251/500 [==============>...............] - ETA: 25s - loss: -931.4434"
     ]
    }
   ],
   "source": [
    "%%time\n",
    "#sess.close()\n",
    "# Test small vocab\n",
    "from KerasAutoencoderRunner import main\n",
    "from vaeArgs import *\n",
    "import keras\n",
    "\n",
    "parser = getParser()\n",
    "args = parser.parse_args('data/literature/tfrecords/train data/literature/tfrecords/val -L0.00005 -b256 -N20000 -E500 '\n",
    "                         '-a1 -l500 -kMMD '\n",
    "                         '-D 10000 2000 50 --idf_path idf-1.npy --model-outdir data/literature/models'.split())\n",
    "\n",
    "vae, train_dataset, val_dataset, log = main(args)"
   ]
  },
  {
   "cell_type": "code",
   "execution_count": null,
   "metadata": {},
   "outputs": [],
   "source": []
  }
 ],
 "metadata": {
  "kernelspec": {
   "display_name": "Python 3",
   "language": "python",
   "name": "python3"
  },
  "language_info": {
   "codemirror_mode": {
    "name": "ipython",
    "version": 3
   },
   "file_extension": ".py",
   "mimetype": "text/x-python",
   "name": "python",
   "nbconvert_exporter": "python",
   "pygments_lexer": "ipython3",
   "version": "3.5.3"
  }
 },
 "nbformat": 4,
 "nbformat_minor": 2
}
