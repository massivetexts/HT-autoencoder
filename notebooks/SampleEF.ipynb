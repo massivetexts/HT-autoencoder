{
 "cells": [
  {
   "cell_type": "code",
   "execution_count": 8,
   "metadata": {},
   "outputs": [],
   "source": [
    "from htrc import workset\n",
    "from htrc_features import FeatureReader, utils\n",
    "import glob\n",
    "import numpy as np\n",
    "import pandas as pd\n",
    "from ef_utils import *"
   ]
  },
  {
   "cell_type": "code",
   "execution_count": 2,
   "metadata": {},
   "outputs": [],
   "source": [
    "knitids = workset.load_hathitrust_collection('https://babel.hathitrust.org/cgi/mb?a=listis&c=1174943610')\n",
    "sewids = workset.load_hathitrust_collection('https://babel.hathitrust.org/cgi/mb?a=listis&c=973680817')\n",
    "cookids = workset.load_hathitrust_collection('https://babel.hathitrust.org/cgi/mb?a=listis&c=272315082')\n",
    "\n",
    "utils.download_file(knitids, outdir='../data/ef-files/knitting')\n",
    "try:\n",
    "    utils.download_file(cookids, outdir='../data/ef-files/cooking')\n",
    "except:\n",
    "    pass\n",
    "utils.download_file(sewids, outdir='../data/ef-files/sewing')"
   ]
  },
  {
   "cell_type": "code",
   "execution_count": 2,
   "metadata": {},
   "outputs": [],
   "source": [
    "trim_head = 200\n",
    "token_ref = load_tokenref('../eng-vocab-1.txt.bz2', trim_head=trim_head)\n",
    "token_dict = tokenref2dict(token_ref)\n",
    "idf = np.load('../idf-1.npy')[trim_head:]"
   ]
  },
  {
   "cell_type": "code",
   "execution_count": 9,
   "metadata": {},
   "outputs": [
    {
     "name": "stdout",
     "output_type": "stream",
     "text": [
      "COOKING\n",
      "10,20,30,40,50,60,70,80,90,KNITTING\n",
      "10,20,30,40,50,60,70,80,90,100,SEWING\n",
      "10,20,30,40,50,60,70,80,90,100,110,120,130,140,150,160,170,180,190,200,210,"
     ]
    }
   ],
   "source": [
    "for group in ['cooking', 'knitting', 'sewing']:\n",
    "    print(group.upper())\n",
    "    paths = glob.glob('../data/ef-files/%s/*' % group)\n",
    "    fr = FeatureReader(paths)\n",
    "    \n",
    "    all_arrs = []\n",
    "    all_ids = []\n",
    "    i = 0\n",
    "    for vol in fr.volumes():\n",
    "        try:\n",
    "            volid, arr = vol2vec(vol, token_dict, len(token_ref), idf=idf)\n",
    "        except:\n",
    "            continue\n",
    "        all_arrs.append(arr)\n",
    "        all_ids.append(volid)\n",
    "        i += 1\n",
    "        if i % 10 == 0:\n",
    "            print(i, end=',')\n",
    "\n",
    "    stacked_arrs = np.vstack(all_arrs)\n",
    "    np.savez_compressed('../data/ef-files/%s-counts' % group, counts=stacked_arrs, ids=all_ids)\n",
    "    print()"
   ]
  },
  {
   "cell_type": "code",
   "execution_count": null,
   "metadata": {},
   "outputs": [],
   "source": []
  }
 ],
 "metadata": {
  "kernelspec": {
   "display_name": "Python 3",
   "language": "python",
   "name": "python3"
  },
  "language_info": {
   "codemirror_mode": {
    "name": "ipython",
    "version": 3
   },
   "file_extension": ".py",
   "mimetype": "text/x-python",
   "name": "python",
   "nbconvert_exporter": "python",
   "pygments_lexer": "ipython3",
   "version": "3.5.3"
  }
 },
 "nbformat": 4,
 "nbformat_minor": 2
}
